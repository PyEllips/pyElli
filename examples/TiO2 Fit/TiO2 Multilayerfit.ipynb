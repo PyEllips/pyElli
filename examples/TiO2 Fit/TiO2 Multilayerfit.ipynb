{
 "cells": [
  {
   "cell_type": "code",
   "execution_count": 1,
   "metadata": {
    "collapsed": false,
    "execution": {
     "iopub.execute_input": "2025-10-14T21:19:58.085771Z",
     "iopub.status.busy": "2025-10-14T21:19:58.085606Z",
     "iopub.status.idle": "2025-10-14T21:19:58.350099Z",
     "shell.execute_reply": "2025-10-14T21:19:58.349744Z",
     "shell.execute_reply.started": "2025-10-14T21:19:58.085759Z"
    },
    "jupyter": {
     "outputs_hidden": false
    }
   },
   "outputs": [],
   "source": [
    "%matplotlib inline"
   ]
  },
  {
   "cell_type": "markdown",
   "metadata": {},
   "source": [
    "\n",
    "# Multilayer fit\n",
    "\n",
    "Fits a multilayer model to an ALD grown TiO2 sample on SiO2 / Si.\n"
   ]
  },
  {
   "cell_type": "code",
   "execution_count": 2,
   "metadata": {
    "collapsed": false,
    "execution": {
     "iopub.execute_input": "2025-10-14T21:19:58.350571Z",
     "iopub.status.busy": "2025-10-14T21:19:58.350419Z",
     "iopub.status.idle": "2025-10-14T21:19:59.757104Z",
     "shell.execute_reply": "2025-10-14T21:19:59.756751Z",
     "shell.execute_reply.started": "2025-10-14T21:19:58.350559Z"
    },
    "jupyter": {
     "outputs_hidden": false
    }
   },
   "outputs": [],
   "source": [
    "import elli\n",
    "from elli.fitting import ParamsHist, fit\n",
    "\n",
    "# sphinx_gallery_thumbnail_path = '_static/multilayer.png'"
   ]
  },
  {
   "cell_type": "markdown",
   "metadata": {},
   "source": [
    "## Load data\n",
    "\n",
    "Load data collected with Sentech Ellipsometer and cut the spectral range (to use Si Aspnes file)\n",
    "\n",
    "The sample is an ALD grown TiO2 sample (with 400 cycles)\n",
    "on commercially available SiO2 / Si substrate.\n",
    "\n"
   ]
  },
  {
   "cell_type": "code",
   "execution_count": 3,
   "metadata": {
    "collapsed": false,
    "execution": {
     "iopub.execute_input": "2025-10-14T21:19:59.757708Z",
     "iopub.status.busy": "2025-10-14T21:19:59.757478Z",
     "iopub.status.idle": "2025-10-14T21:19:59.776748Z",
     "shell.execute_reply": "2025-10-14T21:19:59.776441Z",
     "shell.execute_reply.started": "2025-10-14T21:19:59.757695Z"
    },
    "jupyter": {
     "outputs_hidden": false
    }
   },
   "outputs": [],
   "source": [
    "tss = elli.read_spectraray_psi_delta(\"TiO2_400cycles.txt\").loc[70.06].loc[400:800]"
   ]
  },
  {
   "cell_type": "markdown",
   "metadata": {},
   "source": [
    "## Set start parameters\n",
    "Here we set the start parameters for the TiO2 and SiO2 layer.\n",
    "We set the SiO2 layer parameters to a fixed value from another\n",
    "fit of the substrate. See the `Basic usage` example for details\n",
    "on how to perform such a fit.\n",
    "In general it is a good idea to fit your data layer-wise if possible\n",
    "to yield a better fit quality.\n",
    "\n"
   ]
  },
  {
   "cell_type": "code",
   "execution_count": 4,
   "metadata": {
    "collapsed": false,
    "execution": {
     "iopub.execute_input": "2025-10-14T21:19:59.777151Z",
     "iopub.status.busy": "2025-10-14T21:19:59.777050Z",
     "iopub.status.idle": "2025-10-14T21:19:59.781092Z",
     "shell.execute_reply": "2025-10-14T21:19:59.780784Z",
     "shell.execute_reply.started": "2025-10-14T21:19:59.777142Z"
    },
    "jupyter": {
     "outputs_hidden": false
    }
   },
   "outputs": [],
   "source": [
    "params = ParamsHist()\n",
    "params.add(\"SiO2_n0\", value=1.452, min=-100, max=100, vary=False)\n",
    "params.add(\"SiO2_n1\", value=36.0, min=-40000, max=40000, vary=False)\n",
    "params.add(\"SiO2_n2\", value=0, min=-40000, max=40000, vary=False)\n",
    "params.add(\"SiO2_k0\", value=0, min=-100, max=100, vary=False)\n",
    "params.add(\"SiO2_k1\", value=0, min=-40000, max=40000, vary=False)\n",
    "params.add(\"SiO2_k2\", value=0, min=-40000, max=40000, vary=False)\n",
    "params.add(\"SiO2_d\", value=276.36, min=0, max=40000, vary=False)\n",
    "\n",
    "params.add(\"TiO2_n0\", value=2.236, min=-100, max=100, vary=True)\n",
    "params.add(\"TiO2_n1\", value=451, min=-40000, max=40000, vary=True)\n",
    "params.add(\"TiO2_n2\", value=251, min=-40000, max=40000, vary=True)\n",
    "params.add(\"TiO2_k0\", value=0, min=-100, max=100, vary=False)\n",
    "params.add(\"TiO2_k1\", value=0, min=-40000, max=40000, vary=False)\n",
    "params.add(\"TiO2_k2\", value=0, min=-40000, max=40000, vary=False)\n",
    "\n",
    "params.add(\"TiO2_d\", value=20, min=0, max=40000, vary=True)"
   ]
  },
  {
   "cell_type": "markdown",
   "metadata": {},
   "source": [
    "## Load silicon dispersion from the refractiveindexinfo database\n",
    "You can load any material from the index\n",
    "[refractiveindex.info](https://refractiveindex.info)_, which is\n",
    "embedded into the software (so you may use it offline, too). Here, we\n",
    "are interested in the literature values for the silicon substrate.\n",
    "First we need to load the database with ``rii_db = elli.db.RII()`` and\n",
    "then we can query it with ``rii_db.get_mat(\"Si\", \"Aspnes\")`` to load\n",
    "this\n",
    "[entry](https://refractiveindex.info/?shelf=main&book=Si&page=Aspnes)_.\n",
    "\n"
   ]
  },
  {
   "cell_type": "code",
   "execution_count": 5,
   "metadata": {
    "collapsed": false,
    "execution": {
     "iopub.execute_input": "2025-10-14T21:19:59.781485Z",
     "iopub.status.busy": "2025-10-14T21:19:59.781388Z",
     "iopub.status.idle": "2025-10-14T21:20:00.398706Z",
     "shell.execute_reply": "2025-10-14T21:20:00.398324Z",
     "shell.execute_reply.started": "2025-10-14T21:19:59.781476Z"
    },
    "jupyter": {
     "outputs_hidden": false
    }
   },
   "outputs": [],
   "source": [
    "rii_db = elli.db.RII()\n",
    "Si = rii_db.get_mat(\"Si\", \"Aspnes\")"
   ]
  },
  {
   "cell_type": "markdown",
   "metadata": {},
   "source": [
    "## Building the model\n",
    "Here the model is build and the experimental structure is returned.\n",
    "For details on this process please refer to the `Basic usage` example.\n",
    "When executed in an jupyter notebook this displays an interactive graph\n",
    "with which you can select the start parameters before fitting the data.\n",
    "\n"
   ]
  },
  {
   "cell_type": "code",
   "execution_count": 6,
   "metadata": {
    "collapsed": false,
    "execution": {
     "iopub.execute_input": "2025-10-14T21:20:00.399720Z",
     "iopub.status.busy": "2025-10-14T21:20:00.399564Z",
     "iopub.status.idle": "2025-10-14T21:20:00.644962Z",
     "shell.execute_reply": "2025-10-14T21:20:00.644643Z",
     "shell.execute_reply.started": "2025-10-14T21:20:00.399709Z"
    },
    "jupyter": {
     "outputs_hidden": false
    }
   },
   "outputs": [
    {
     "data": {
      "application/vnd.jupyter.widget-view+json": {
       "model_id": "30df5ab1ad1b4a4b99207c01da3c9969",
       "version_major": 2,
       "version_minor": 0
      },
      "text/plain": [
       "VBox(children=(HBox(children=(HBox(children=(BoundedFloatText(value=1.452, description='SiO2_n0', min=-100.0),…"
      ]
     },
     "metadata": {},
     "output_type": "display_data"
    }
   ],
   "source": [
    "@fit(tss, params)\n",
    "def model(lbda, params):\n",
    "    SiO2 = elli.Cauchy(\n",
    "        params[\"SiO2_n0\"],\n",
    "        params[\"SiO2_n1\"],\n",
    "        params[\"SiO2_n2\"],\n",
    "        params[\"SiO2_k0\"],\n",
    "        params[\"SiO2_k1\"],\n",
    "        params[\"SiO2_k2\"],\n",
    "    ).get_mat()\n",
    "    TiO2 = elli.Cauchy(\n",
    "        params[\"TiO2_n0\"],\n",
    "        params[\"TiO2_n1\"],\n",
    "        params[\"TiO2_n2\"],\n",
    "        params[\"TiO2_k0\"],\n",
    "        params[\"TiO2_k1\"],\n",
    "        params[\"TiO2_k2\"],\n",
    "    ).get_mat()\n",
    "\n",
    "    Layer = [elli.Layer(TiO2, params[\"TiO2_d\"]), elli.Layer(SiO2, params[\"SiO2_d\"])]\n",
    "\n",
    "    return elli.Structure(elli.AIR, Layer, Si).evaluate(lbda, 70, solver=elli.Solver2x2)\n",
    "    # Alternative: Use 4x4 Solver with scipy propagator\n",
    "    # return elli.Structure(elli.AIR, Layer, Si).evaluate(lbda, 70, solver=elli.Solver4x4, propagator=elli.PropagatorExpm())"
   ]
  },
  {
   "cell_type": "markdown",
   "metadata": {},
   "source": [
    "## Plot & Fit model\n",
    "We plot the model to see the deviation with the initial parameters.\n",
    "\n"
   ]
  },
  {
   "cell_type": "code",
   "execution_count": 7,
   "metadata": {
    "collapsed": false,
    "execution": {
     "iopub.execute_input": "2025-10-14T21:20:00.645404Z",
     "iopub.status.busy": "2025-10-14T21:20:00.645300Z",
     "iopub.status.idle": "2025-10-14T21:20:00.685429Z",
     "shell.execute_reply": "2025-10-14T21:20:00.685156Z",
     "shell.execute_reply.started": "2025-10-14T21:20:00.645394Z"
    },
    "jupyter": {
     "outputs_hidden": false
    }
   },
   "outputs": [
    {
     "data": {
      "application/vnd.jupyter.widget-view+json": {
       "model_id": "7908a2bc344b49f7ac3f418fbadc0174",
       "version_major": 2,
       "version_minor": 0
      },
      "text/plain": [
       "FigureWidget({\n",
       "    'data': [{'hovertemplate': 'variable=Ψ<br>Wavelength=%{x}<br>value=%{y}<extra></extra>',\n",
       "              'legendgroup': 'Ψ',\n",
       "              'line': {'color': '#636efa', 'dash': 'solid'},\n",
       "              'marker': {'symbol': 'circle'},\n",
       "              'mode': 'lines',\n",
       "              'name': 'Ψ',\n",
       "              'showlegend': True,\n",
       "              'type': 'scattergl',\n",
       "              'uid': 'e3cfb6d8-5fb7-4365-b7c4-fa87fb96b785',\n",
       "              'x': array([400.07646, 400.51975, 400.96301, ..., 798.88197, 799.30046, 799.71891],\n",
       "                         shape=(1852,)),\n",
       "              'xaxis': 'x',\n",
       "              'y': array([32.75947, 32.84076, 32.84675, ...,      nan,      nan,      nan],\n",
       "                         shape=(1852,)),\n",
       "              'yaxis': 'y'},\n",
       "             {'hovertemplate': 'variable=Δ<br>Wavelength=%{x}<br>value=%{y}<extra></extra>',\n",
       "              'legendgroup': 'Δ',\n",
       "              'line': {'color': '#EF553B', 'dash': 'solid'},\n",
       "              'marker': {'symbol': 'circle'},\n",
       "              'mode': 'lines',\n",
       "              'name': 'Δ',\n",
       "              'showlegend': True,\n",
       "              'type': 'scattergl',\n",
       "              'uid': 'df2652d1-d9ca-46e9-b525-1161e4b35fb7',\n",
       "              'x': array([400.07646, 400.51975, 400.96301, ..., 798.88197, 799.30046, 799.71891],\n",
       "                         shape=(1852,)),\n",
       "              'xaxis': 'x',\n",
       "              'y': array([-132.57268, -132.11725, -131.5141 , ...,        nan,        nan,\n",
       "                                 nan], shape=(1852,)),\n",
       "              'yaxis': 'y'},\n",
       "             {'hovertemplate': 'variable=Ψ_fit<br>Wavelength=%{x}<br>value=%{y}<extra></extra>',\n",
       "              'legendgroup': 'Ψ_fit',\n",
       "              'line': {'color': '#00cc96', 'dash': 'solid'},\n",
       "              'marker': {'symbol': 'circle'},\n",
       "              'mode': 'lines',\n",
       "              'name': 'Ψ_fit',\n",
       "              'showlegend': True,\n",
       "              'type': 'scattergl',\n",
       "              'uid': '73507853-93dc-4b09-a84a-6c0ab392c8aa',\n",
       "              'x': array([400.07646, 400.51975, 400.96301, ..., 798.88197, 799.30046, 799.71891],\n",
       "                         shape=(1852,)),\n",
       "              'xaxis': 'x',\n",
       "              'y': array([        nan,         nan,         nan, ..., 21.13502205, 21.16231399,\n",
       "                          21.18955407], shape=(1852,)),\n",
       "              'yaxis': 'y'},\n",
       "             {'hovertemplate': 'variable=Δ_fit<br>Wavelength=%{x}<br>value=%{y}<extra></extra>',\n",
       "              'legendgroup': 'Δ_fit',\n",
       "              'line': {'color': '#ab63fa', 'dash': 'solid'},\n",
       "              'marker': {'symbol': 'circle'},\n",
       "              'mode': 'lines',\n",
       "              'name': 'Δ_fit',\n",
       "              'showlegend': True,\n",
       "              'type': 'scattergl',\n",
       "              'uid': '6caeb9b2-8c52-40fe-b644-4fecf58c2db0',\n",
       "              'x': array([400.07646, 400.51975, 400.96301, ..., 798.88197, 799.30046, 799.71891],\n",
       "                         shape=(1852,)),\n",
       "              'xaxis': 'x',\n",
       "              'y': array([          nan,           nan,           nan, ..., -111.09599625,\n",
       "                          -110.98086027, -110.86609469], shape=(1852,)),\n",
       "              'yaxis': 'y'}],\n",
       "    'layout': {'legend': {'title': {'text': 'variable'}, 'tracegroupgap': 0},\n",
       "               'margin': {'t': 60},\n",
       "               'template': '...',\n",
       "               'xaxis': {'anchor': 'y', 'domain': [0.0, 1.0], 'title': {'text': 'Wavelength'}},\n",
       "               'yaxis': {'anchor': 'x', 'domain': [0.0, 1.0], 'title': {'text': 'value'}}}\n",
       "})"
      ]
     },
     "execution_count": 7,
     "metadata": {},
     "output_type": "execute_result"
    }
   ],
   "source": [
    "model.plot()"
   ]
  },
  {
   "cell_type": "markdown",
   "metadata": {},
   "source": [
    "Now lets perform the fit and plot the comparison of\n",
    "calculation and experimental data afterwards.\n",
    "\n"
   ]
  },
  {
   "cell_type": "code",
   "execution_count": 8,
   "metadata": {
    "collapsed": false,
    "execution": {
     "iopub.execute_input": "2025-10-14T21:20:00.685837Z",
     "iopub.status.busy": "2025-10-14T21:20:00.685740Z",
     "iopub.status.idle": "2025-10-14T21:20:00.800970Z",
     "shell.execute_reply": "2025-10-14T21:20:00.800507Z",
     "shell.execute_reply.started": "2025-10-14T21:20:00.685827Z"
    },
    "jupyter": {
     "outputs_hidden": false
    }
   },
   "outputs": [
    {
     "name": "stderr",
     "output_type": "stream",
     "text": [
      "/home/marius/.venv/pyelli/lib/python3.13/site-packages/uncertainties/core.py:1024: UserWarning:\n",
      "\n",
      "Using UFloat objects with std_dev==0 may give unexpected results.\n",
      "\n"
     ]
    },
    {
     "data": {
      "application/vnd.jupyter.widget-view+json": {
       "model_id": "844f84a5179543529bf32c198ab82767",
       "version_major": 2,
       "version_minor": 0
      },
      "text/plain": [
       "FigureWidget({\n",
       "    'data': [{'hovertemplate': 'variable=Ψ<br>Wavelength=%{x}<br>value=%{y}<extra></extra>',\n",
       "              'legendgroup': 'Ψ',\n",
       "              'line': {'color': '#636efa', 'dash': 'solid'},\n",
       "              'marker': {'symbol': 'circle'},\n",
       "              'mode': 'lines',\n",
       "              'name': 'Ψ',\n",
       "              'showlegend': True,\n",
       "              'type': 'scattergl',\n",
       "              'uid': 'aa54a9d7-9c8d-4b6e-8827-08965488a8c1',\n",
       "              'x': array([400.07646, 400.51975, 400.96301, ..., 798.88197, 799.30046, 799.71891],\n",
       "                         shape=(1852,)),\n",
       "              'xaxis': 'x',\n",
       "              'y': array([32.75947, 32.84076, 32.84675, ...,      nan,      nan,      nan],\n",
       "                         shape=(1852,)),\n",
       "              'yaxis': 'y'},\n",
       "             {'hovertemplate': 'variable=Δ<br>Wavelength=%{x}<br>value=%{y}<extra></extra>',\n",
       "              'legendgroup': 'Δ',\n",
       "              'line': {'color': '#EF553B', 'dash': 'solid'},\n",
       "              'marker': {'symbol': 'circle'},\n",
       "              'mode': 'lines',\n",
       "              'name': 'Δ',\n",
       "              'showlegend': True,\n",
       "              'type': 'scattergl',\n",
       "              'uid': 'cda2ed3a-6e14-4724-b0e1-ac680626a16c',\n",
       "              'x': array([400.07646, 400.51975, 400.96301, ..., 798.88197, 799.30046, 799.71891],\n",
       "                         shape=(1852,)),\n",
       "              'xaxis': 'x',\n",
       "              'y': array([-132.57268, -132.11725, -131.5141 , ...,        nan,        nan,\n",
       "                                 nan], shape=(1852,)),\n",
       "              'yaxis': 'y'},\n",
       "             {'hovertemplate': 'variable=Ψ_fit<br>Wavelength=%{x}<br>value=%{y}<extra></extra>',\n",
       "              'legendgroup': 'Ψ_fit',\n",
       "              'line': {'color': '#00cc96', 'dash': 'solid'},\n",
       "              'marker': {'symbol': 'circle'},\n",
       "              'mode': 'lines',\n",
       "              'name': 'Ψ_fit',\n",
       "              'showlegend': True,\n",
       "              'type': 'scattergl',\n",
       "              'uid': '663f445a-41b0-44da-b0e5-1ffa8197ca9d',\n",
       "              'x': array([400.07646, 400.51975, 400.96301, ..., 798.88197, 799.30046, 799.71891],\n",
       "                         shape=(1852,)),\n",
       "              'xaxis': 'x',\n",
       "              'y': array([        nan,         nan,         nan, ..., 20.20488814, 20.23141868,\n",
       "                          20.25790068], shape=(1852,)),\n",
       "              'yaxis': 'y'},\n",
       "             {'hovertemplate': 'variable=Δ_fit<br>Wavelength=%{x}<br>value=%{y}<extra></extra>',\n",
       "              'legendgroup': 'Δ_fit',\n",
       "              'line': {'color': '#ab63fa', 'dash': 'solid'},\n",
       "              'marker': {'symbol': 'circle'},\n",
       "              'mode': 'lines',\n",
       "              'name': 'Δ_fit',\n",
       "              'showlegend': True,\n",
       "              'type': 'scattergl',\n",
       "              'uid': 'e6802f86-f931-4ab9-9c94-87c16b9d4577',\n",
       "              'x': array([400.07646, 400.51975, 400.96301, ..., 798.88197, 799.30046, 799.71891],\n",
       "                         shape=(1852,)),\n",
       "              'xaxis': 'x',\n",
       "              'y': array([          nan,           nan,           nan, ..., -118.64650334,\n",
       "                          -118.5165033 , -118.38691232], shape=(1852,)),\n",
       "              'yaxis': 'y'}],\n",
       "    'layout': {'legend': {'title': {'text': 'variable'}, 'tracegroupgap': 0},\n",
       "               'margin': {'t': 60},\n",
       "               'template': '...',\n",
       "               'xaxis': {'anchor': 'y', 'domain': [0.0, 1.0], 'title': {'text': 'Wavelength'}},\n",
       "               'yaxis': {'anchor': 'x', 'domain': [0.0, 1.0], 'title': {'text': 'value'}}}\n",
       "})"
      ]
     },
     "execution_count": 8,
     "metadata": {},
     "output_type": "execute_result"
    }
   ],
   "source": [
    "fit_stats = model.fit()\n",
    "model.plot()"
   ]
  },
  {
   "cell_type": "markdown",
   "metadata": {},
   "source": [
    "We can also have a look at the fit statistics.\n",
    "\n"
   ]
  },
  {
   "cell_type": "code",
   "execution_count": 9,
   "metadata": {
    "collapsed": false,
    "execution": {
     "iopub.execute_input": "2025-10-14T21:20:00.801536Z",
     "iopub.status.busy": "2025-10-14T21:20:00.801393Z",
     "iopub.status.idle": "2025-10-14T21:20:00.804607Z",
     "shell.execute_reply": "2025-10-14T21:20:00.804258Z",
     "shell.execute_reply.started": "2025-10-14T21:20:00.801523Z"
    },
    "jupyter": {
     "outputs_hidden": false
    }
   },
   "outputs": [
    {
     "data": {
      "text/html": [
       "<h2>Fit Result</h2> <table class=\"jp-toc-ignore\"><caption class=\"jp-toc-ignore\">Fit Statistics</caption><tr><td style='text-align:left'>fitting method</td><td style='text-align:right'>leastsq</td></tr><tr><td style='text-align:left'># function evals</td><td style='text-align:right'>32</td></tr><tr><td style='text-align:left'># data points</td><td style='text-align:right'>1852</td></tr><tr><td style='text-align:left'># variables</td><td style='text-align:right'>4</td></tr><tr><td style='text-align:left'>chi-square</td><td style='text-align:right'> 0.04160577</td></tr><tr><td style='text-align:left'>reduced chi-square</td><td style='text-align:right'> 2.2514e-05</td></tr><tr><td style='text-align:left'>Akaike info crit.</td><td style='text-align:right'>-19814.9521</td></tr><tr><td style='text-align:left'>Bayesian info crit.</td><td style='text-align:right'>-19792.8560</td></tr></table><table class=\"jp-toc-ignore\"><caption>Parameters</caption><tr><th style='text-align:left'>name</th><th style='text-align:left'>value</th><th style='text-align:left'>standard error</th><th style='text-align:left'>relative error</th><th style='text-align:left'>initial value</th><th style='text-align:left'>min</th><th style='text-align:left'>max</th><th style='text-align:right'>vary</th></tr><tr><td style='text-align:left'>SiO2_n0</td><td style='text-align:left'> 1.45200000</td><td style='text-align:left'> 0.00000000</td><td style='text-align:left'>(0.00%)</td><td style='text-align:left'>1.452</td><td style='text-align:left'>-100.000000</td><td style='text-align:left'> 100.000000</td><td style='text-align:right'>False</td></tr><tr><td style='text-align:left'>SiO2_n1</td><td style='text-align:left'> 36.0000000</td><td style='text-align:left'> 0.00000000</td><td style='text-align:left'>(0.00%)</td><td style='text-align:left'>36.0</td><td style='text-align:left'>-40000.0000</td><td style='text-align:left'> 40000.0000</td><td style='text-align:right'>False</td></tr><tr><td style='text-align:left'>SiO2_n2</td><td style='text-align:left'> 0.00000000</td><td style='text-align:left'> 0.00000000</td><td style='text-align:left'></td><td style='text-align:left'>0</td><td style='text-align:left'>-40000.0000</td><td style='text-align:left'> 40000.0000</td><td style='text-align:right'>False</td></tr><tr><td style='text-align:left'>SiO2_k0</td><td style='text-align:left'> 0.00000000</td><td style='text-align:left'> 0.00000000</td><td style='text-align:left'></td><td style='text-align:left'>0</td><td style='text-align:left'>-100.000000</td><td style='text-align:left'> 100.000000</td><td style='text-align:right'>False</td></tr><tr><td style='text-align:left'>SiO2_k1</td><td style='text-align:left'> 0.00000000</td><td style='text-align:left'> 0.00000000</td><td style='text-align:left'></td><td style='text-align:left'>0</td><td style='text-align:left'>-40000.0000</td><td style='text-align:left'> 40000.0000</td><td style='text-align:right'>False</td></tr><tr><td style='text-align:left'>SiO2_k2</td><td style='text-align:left'> 0.00000000</td><td style='text-align:left'> 0.00000000</td><td style='text-align:left'></td><td style='text-align:left'>0</td><td style='text-align:left'>-40000.0000</td><td style='text-align:left'> 40000.0000</td><td style='text-align:right'>False</td></tr><tr><td style='text-align:left'>SiO2_d</td><td style='text-align:left'> 276.360000</td><td style='text-align:left'> 0.00000000</td><td style='text-align:left'>(0.00%)</td><td style='text-align:left'>276.36</td><td style='text-align:left'> 0.00000000</td><td style='text-align:left'> 40000.0000</td><td style='text-align:right'>False</td></tr><tr><td style='text-align:left'>TiO2_n0</td><td style='text-align:left'> 2.22973557</td><td style='text-align:left'> 0.00472756</td><td style='text-align:left'>(0.21%)</td><td style='text-align:left'>2.236</td><td style='text-align:left'>-100.000000</td><td style='text-align:left'> 100.000000</td><td style='text-align:right'>True</td></tr><tr><td style='text-align:left'>TiO2_n1</td><td style='text-align:left'> 461.689339</td><td style='text-align:left'> 22.1724774</td><td style='text-align:left'>(4.80%)</td><td style='text-align:left'>451</td><td style='text-align:left'>-40000.0000</td><td style='text-align:left'> 40000.0000</td><td style='text-align:right'>True</td></tr><tr><td style='text-align:left'>TiO2_n2</td><td style='text-align:left'> 189.779575</td><td style='text-align:left'> 25.7876506</td><td style='text-align:left'>(13.59%)</td><td style='text-align:left'>251</td><td style='text-align:left'>-40000.0000</td><td style='text-align:left'> 40000.0000</td><td style='text-align:right'>True</td></tr><tr><td style='text-align:left'>TiO2_k0</td><td style='text-align:left'> 0.00000000</td><td style='text-align:left'> 0.00000000</td><td style='text-align:left'></td><td style='text-align:left'>0</td><td style='text-align:left'>-100.000000</td><td style='text-align:left'> 100.000000</td><td style='text-align:right'>False</td></tr><tr><td style='text-align:left'>TiO2_k1</td><td style='text-align:left'> 0.00000000</td><td style='text-align:left'> 0.00000000</td><td style='text-align:left'></td><td style='text-align:left'>0</td><td style='text-align:left'>-40000.0000</td><td style='text-align:left'> 40000.0000</td><td style='text-align:right'>False</td></tr><tr><td style='text-align:left'>TiO2_k2</td><td style='text-align:left'> 0.00000000</td><td style='text-align:left'> 0.00000000</td><td style='text-align:left'></td><td style='text-align:left'>0</td><td style='text-align:left'>-40000.0000</td><td style='text-align:left'> 40000.0000</td><td style='text-align:right'>False</td></tr><tr><td style='text-align:left'>TiO2_d</td><td style='text-align:left'> 24.8446396</td><td style='text-align:left'> 0.01013894</td><td style='text-align:left'>(0.04%)</td><td style='text-align:left'>20</td><td style='text-align:left'> 0.00000000</td><td style='text-align:left'> 40000.0000</td><td style='text-align:right'>True</td></tr></table><table class=\"jp-toc-ignore\"><caption>Correlations (unreported values are < 0.100)</caption><tr><th style='text-align:left'>Parameter1</th><th style='text-align:left'>Parameter 2</th><th style='text-align:right'>Correlation</th></tr><tr><td style='text-align:left'>TiO2_n0</td><td style='text-align:left'>TiO2_n1</td><td style='text-align:right'>-0.9910</td></tr><tr><td style='text-align:left'>TiO2_n1</td><td style='text-align:left'>TiO2_n2</td><td style='text-align:right'>-0.9879</td></tr><tr><td style='text-align:left'>TiO2_n0</td><td style='text-align:left'>TiO2_n2</td><td style='text-align:right'>+0.9640</td></tr></table>"
      ],
      "text/plain": [
       "<lmfit.minimizer.MinimizerResult at 0x7f2687da6e40>"
      ]
     },
     "execution_count": 9,
     "metadata": {},
     "output_type": "execute_result"
    }
   ],
   "source": [
    "fit_stats"
   ]
  },
  {
   "cell_type": "markdown",
   "metadata": {},
   "source": [
    "## References\n",
    "[Here](https://github.com/PyEllips/pyElli/tree/master/examples/TiO2%20Fit)\n",
    "you can find the latest jupyter notebook and data files of this example.\n",
    "\n"
   ]
  }
 ],
 "metadata": {
  "kernelspec": {
   "display_name": "Python 3 (ipykernel)",
   "language": "python",
   "name": "python3"
  },
  "language_info": {
   "codemirror_mode": {
    "name": "ipython",
    "version": 3
   },
   "file_extension": ".py",
   "mimetype": "text/x-python",
   "name": "python",
   "nbconvert_exporter": "python",
   "pygments_lexer": "ipython3",
   "version": "3.13.7"
  }
 },
 "nbformat": 4,
 "nbformat_minor": 4
}
