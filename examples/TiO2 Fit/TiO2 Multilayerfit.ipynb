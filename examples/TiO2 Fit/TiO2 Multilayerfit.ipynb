{
 "cells": [
  {
   "cell_type": "code",
   "execution_count": 1,
   "metadata": {
    "collapsed": false,
    "execution": {
     "iopub.execute_input": "2024-06-28T09:13:44.843806Z",
     "iopub.status.busy": "2024-06-28T09:13:44.843591Z",
     "iopub.status.idle": "2024-06-28T09:13:45.917983Z",
     "shell.execute_reply": "2024-06-28T09:13:45.917335Z",
     "shell.execute_reply.started": "2024-06-28T09:13:44.843784Z"
    },
    "jupyter": {
     "outputs_hidden": false
    }
   },
   "outputs": [],
   "source": [
    "%matplotlib inline"
   ]
  },
  {
   "cell_type": "markdown",
   "metadata": {},
   "source": [
    "\n",
    "# Multilayer fit\n",
    "\n",
    "Fits a multilayer model to an ALD grown TiO2 sample on SiO2 / Si.\n"
   ]
  },
  {
   "cell_type": "code",
   "execution_count": 2,
   "metadata": {
    "collapsed": false,
    "execution": {
     "iopub.execute_input": "2024-06-28T09:13:45.919042Z",
     "iopub.status.busy": "2024-06-28T09:13:45.918777Z",
     "iopub.status.idle": "2024-06-28T09:13:48.809389Z",
     "shell.execute_reply": "2024-06-28T09:13:48.808795Z",
     "shell.execute_reply.started": "2024-06-28T09:13:45.919022Z"
    },
    "jupyter": {
     "outputs_hidden": false
    }
   },
   "outputs": [],
   "source": [
    "import elli\n",
    "from elli.fitting import ParamsHist, fit\n",
    "\n",
    "# sphinx_gallery_thumbnail_path = '_static/multilayer.png'"
   ]
  },
  {
   "cell_type": "markdown",
   "metadata": {},
   "source": [
    "## Load data\n",
    "\n",
    "Load data collected with Sentech Ellipsometer and cut the spectral range (to use Si Aspnes file)\n",
    "\n",
    "The sample is an ALD grown TiO2 sample (with 400 cycles)\n",
    "on commercially available SiO2 / Si substrate.\n",
    "\n"
   ]
  },
  {
   "cell_type": "code",
   "execution_count": 3,
   "metadata": {
    "collapsed": false,
    "execution": {
     "iopub.execute_input": "2024-06-28T09:13:48.813956Z",
     "iopub.status.busy": "2024-06-28T09:13:48.810424Z",
     "iopub.status.idle": "2024-06-28T09:13:48.846659Z",
     "shell.execute_reply": "2024-06-28T09:13:48.845069Z",
     "shell.execute_reply.started": "2024-06-28T09:13:48.813929Z"
    },
    "jupyter": {
     "outputs_hidden": false
    }
   },
   "outputs": [],
   "source": [
    "tss = elli.read_spectraray_psi_delta(\"TiO2_400cycles.txt\").loc[70.06].loc[400:800]"
   ]
  },
  {
   "cell_type": "markdown",
   "metadata": {},
   "source": [
    "## Set start parameters\n",
    "Here we set the start parameters for the TiO2 and SiO2 layer.\n",
    "We set the SiO2 layer parameters to a fixed value from another\n",
    "fit of the substrate. See the `Basic usage` example for details\n",
    "on how to perform such a fit.\n",
    "In general it is a good idea to fit your data layer-wise if possible\n",
    "to yield a better fit quality.\n",
    "\n"
   ]
  },
  {
   "cell_type": "code",
   "execution_count": 4,
   "metadata": {
    "collapsed": false,
    "execution": {
     "iopub.execute_input": "2024-06-28T09:13:48.847906Z",
     "iopub.status.busy": "2024-06-28T09:13:48.847650Z",
     "iopub.status.idle": "2024-06-28T09:13:48.857282Z",
     "shell.execute_reply": "2024-06-28T09:13:48.854987Z",
     "shell.execute_reply.started": "2024-06-28T09:13:48.847883Z"
    },
    "jupyter": {
     "outputs_hidden": false
    }
   },
   "outputs": [],
   "source": [
    "params = ParamsHist()\n",
    "params.add(\"SiO2_n0\", value=1.452, min=-100, max=100, vary=False)\n",
    "params.add(\"SiO2_n1\", value=36.0, min=-40000, max=40000, vary=False)\n",
    "params.add(\"SiO2_n2\", value=0, min=-40000, max=40000, vary=False)\n",
    "params.add(\"SiO2_k0\", value=0, min=-100, max=100, vary=False)\n",
    "params.add(\"SiO2_k1\", value=0, min=-40000, max=40000, vary=False)\n",
    "params.add(\"SiO2_k2\", value=0, min=-40000, max=40000, vary=False)\n",
    "params.add(\"SiO2_d\", value=276.36, min=0, max=40000, vary=False)\n",
    "\n",
    "params.add(\"TiO2_n0\", value=2.236, min=-100, max=100, vary=True)\n",
    "params.add(\"TiO2_n1\", value=451, min=-40000, max=40000, vary=True)\n",
    "params.add(\"TiO2_n2\", value=251, min=-40000, max=40000, vary=True)\n",
    "params.add(\"TiO2_k0\", value=0, min=-100, max=100, vary=False)\n",
    "params.add(\"TiO2_k1\", value=0, min=-40000, max=40000, vary=False)\n",
    "params.add(\"TiO2_k2\", value=0, min=-40000, max=40000, vary=False)\n",
    "\n",
    "params.add(\"TiO2_d\", value=20, min=0, max=40000, vary=True)"
   ]
  },
  {
   "cell_type": "markdown",
   "metadata": {},
   "source": [
    "## Load silicon dispersion from the refractiveindexinfo database\n",
    "You can load any material from the index\n",
    "[refractiveindex.info](https://refractiveindex.info)_, which is\n",
    "embedded into the software (so you may use it offline, too). Here, we\n",
    "are interested in the literature values for the silicon substrate.\n",
    "First we need to load the database with ``rii_db = elli.db.RII()`` and\n",
    "then we can query it with ``rii_db.get_mat(\"Si\", \"Aspnes\")`` to load\n",
    "this\n",
    "[entry](https://refractiveindex.info/?shelf=main&book=Si&page=Aspnes)_.\n",
    "\n"
   ]
  },
  {
   "cell_type": "code",
   "execution_count": 5,
   "metadata": {
    "collapsed": false,
    "execution": {
     "iopub.execute_input": "2024-06-28T09:13:48.858129Z",
     "iopub.status.busy": "2024-06-28T09:13:48.857916Z",
     "iopub.status.idle": "2024-06-28T09:13:50.073971Z",
     "shell.execute_reply": "2024-06-28T09:13:50.070507Z",
     "shell.execute_reply.started": "2024-06-28T09:13:48.858108Z"
    },
    "jupyter": {
     "outputs_hidden": false
    }
   },
   "outputs": [],
   "source": [
    "rii_db = elli.db.RII()\n",
    "Si = rii_db.get_mat(\"Si\", \"Aspnes\")"
   ]
  },
  {
   "cell_type": "markdown",
   "metadata": {},
   "source": [
    "## Building the model\n",
    "Here the model is build and the experimental structure is returned.\n",
    "For details on this process please refer to the `Basic usage` example.\n",
    "When executed in an jupyter notebook this displays an interactive graph\n",
    "with which you can select the start parameters before fitting the data.\n",
    "\n"
   ]
  },
  {
   "cell_type": "code",
   "execution_count": 6,
   "metadata": {
    "collapsed": false,
    "execution": {
     "iopub.execute_input": "2024-06-28T09:13:50.078086Z",
     "iopub.status.busy": "2024-06-28T09:13:50.075461Z",
     "iopub.status.idle": "2024-06-28T09:13:50.709374Z",
     "shell.execute_reply": "2024-06-28T09:13:50.708627Z",
     "shell.execute_reply.started": "2024-06-28T09:13:50.078060Z"
    },
    "jupyter": {
     "outputs_hidden": false
    }
   },
   "outputs": [
    {
     "data": {
      "application/vnd.jupyter.widget-view+json": {
       "model_id": "874d3823dee24df48c0cd31b156c65a1",
       "version_major": 2,
       "version_minor": 0
      },
      "text/plain": [
       "VBox(children=(HBox(children=(HBox(children=(BoundedFloatText(value=1.452, description='SiO2_n0', min=-100.0),…"
      ]
     },
     "metadata": {},
     "output_type": "display_data"
    }
   ],
   "source": [
    "@fit(tss, params)\n",
    "def model(lbda, params):\n",
    "    SiO2 = elli.Cauchy(\n",
    "        params[\"SiO2_n0\"],\n",
    "        params[\"SiO2_n1\"],\n",
    "        params[\"SiO2_n2\"],\n",
    "        params[\"SiO2_k0\"],\n",
    "        params[\"SiO2_k1\"],\n",
    "        params[\"SiO2_k2\"],\n",
    "    ).get_mat()\n",
    "    TiO2 = elli.Cauchy(\n",
    "        params[\"TiO2_n0\"],\n",
    "        params[\"TiO2_n1\"],\n",
    "        params[\"TiO2_n2\"],\n",
    "        params[\"TiO2_k0\"],\n",
    "        params[\"TiO2_k1\"],\n",
    "        params[\"TiO2_k2\"],\n",
    "    ).get_mat()\n",
    "\n",
    "    Layer = [elli.Layer(TiO2, params[\"TiO2_d\"]), elli.Layer(SiO2, params[\"SiO2_d\"])]\n",
    "\n",
    "    return elli.Structure(elli.AIR, Layer, Si).evaluate(lbda, 70, solver=elli.Solver2x2)\n",
    "    # Alternative: Use 4x4 Solver with scipy propagator\n",
    "    # return elli.Structure(elli.AIR, Layer, Si).evaluate(lbda, 70, solver=elli.Solver4x4, propagator=elli.PropagatorExpm())"
   ]
  },
  {
   "cell_type": "markdown",
   "metadata": {},
   "source": [
    "## Plot & Fit model\n",
    "We plot the model to see the deviation with the initial parameters.\n",
    "\n"
   ]
  },
  {
   "cell_type": "code",
   "execution_count": 7,
   "metadata": {
    "collapsed": false,
    "execution": {
     "iopub.execute_input": "2024-06-28T09:13:50.711150Z",
     "iopub.status.busy": "2024-06-28T09:13:50.710861Z",
     "iopub.status.idle": "2024-06-28T09:13:50.824346Z",
     "shell.execute_reply": "2024-06-28T09:13:50.822566Z",
     "shell.execute_reply.started": "2024-06-28T09:13:50.711126Z"
    },
    "jupyter": {
     "outputs_hidden": false
    }
   },
   "outputs": [
    {
     "data": {
      "application/vnd.jupyter.widget-view+json": {
       "model_id": "351d155eabeb4d8bb2a47b84b1b1fcf5",
       "version_major": 2,
       "version_minor": 0
      },
      "text/plain": [
       "FigureWidget({\n",
       "    'data': [{'hovertemplate': 'variable=Ψ<br>Wavelength=%{x}<br>value=%{y}<extra></extra>',\n",
       "              'legendgroup': 'Ψ',\n",
       "              'line': {'color': '#636efa', 'dash': 'solid'},\n",
       "              'marker': {'symbol': 'circle'},\n",
       "              'mode': 'lines',\n",
       "              'name': 'Ψ',\n",
       "              'showlegend': True,\n",
       "              'type': 'scattergl',\n",
       "              'uid': 'f0bcf5c1-4723-4ebc-b873-1f657593b0c8',\n",
       "              'x': array([400.07646, 400.51975, 400.96301, ..., 798.88197, 799.30046, 799.71891]),\n",
       "              'xaxis': 'x',\n",
       "              'y': array([32.75947, 32.84076, 32.84675, ...,      nan,      nan,      nan]),\n",
       "              'yaxis': 'y'},\n",
       "             {'hovertemplate': 'variable=Δ<br>Wavelength=%{x}<br>value=%{y}<extra></extra>',\n",
       "              'legendgroup': 'Δ',\n",
       "              'line': {'color': '#EF553B', 'dash': 'solid'},\n",
       "              'marker': {'symbol': 'circle'},\n",
       "              'mode': 'lines',\n",
       "              'name': 'Δ',\n",
       "              'showlegend': True,\n",
       "              'type': 'scattergl',\n",
       "              'uid': '2efd25e6-6489-4320-a23a-991d48f6217f',\n",
       "              'x': array([400.07646, 400.51975, 400.96301, ..., 798.88197, 799.30046, 799.71891]),\n",
       "              'xaxis': 'x',\n",
       "              'y': array([-132.57268, -132.11725, -131.5141 , ...,        nan,        nan,\n",
       "                                 nan]),\n",
       "              'yaxis': 'y'},\n",
       "             {'hovertemplate': 'variable=Ψ_fit<br>Wavelength=%{x}<br>value=%{y}<extra></extra>',\n",
       "              'legendgroup': 'Ψ_fit',\n",
       "              'line': {'color': '#00cc96', 'dash': 'solid'},\n",
       "              'marker': {'symbol': 'circle'},\n",
       "              'mode': 'lines',\n",
       "              'name': 'Ψ_fit',\n",
       "              'showlegend': True,\n",
       "              'type': 'scattergl',\n",
       "              'uid': 'df405615-ed32-40c3-9f27-126daacea7f8',\n",
       "              'x': array([400.07646, 400.51975, 400.96301, ..., 798.88197, 799.30046, 799.71891]),\n",
       "              'xaxis': 'x',\n",
       "              'y': array([        nan,         nan,         nan, ..., 21.13502205, 21.16231399,\n",
       "                          21.18955407]),\n",
       "              'yaxis': 'y'},\n",
       "             {'hovertemplate': 'variable=Δ_fit<br>Wavelength=%{x}<br>value=%{y}<extra></extra>',\n",
       "              'legendgroup': 'Δ_fit',\n",
       "              'line': {'color': '#ab63fa', 'dash': 'solid'},\n",
       "              'marker': {'symbol': 'circle'},\n",
       "              'mode': 'lines',\n",
       "              'name': 'Δ_fit',\n",
       "              'showlegend': True,\n",
       "              'type': 'scattergl',\n",
       "              'uid': '29509ac8-da20-4fef-b02f-10376fe9cb9b',\n",
       "              'x': array([400.07646, 400.51975, 400.96301, ..., 798.88197, 799.30046, 799.71891]),\n",
       "              'xaxis': 'x',\n",
       "              'y': array([          nan,           nan,           nan, ..., -111.09599625,\n",
       "                          -110.98086027, -110.86609469]),\n",
       "              'yaxis': 'y'}],\n",
       "    'layout': {'legend': {'title': {'text': 'variable'}, 'tracegroupgap': 0},\n",
       "               'margin': {'t': 60},\n",
       "               'template': '...',\n",
       "               'xaxis': {'anchor': 'y', 'domain': [0.0, 1.0], 'title': {'text': 'Wavelength'}},\n",
       "               'yaxis': {'anchor': 'x', 'domain': [0.0, 1.0], 'title': {'text': 'value'}}}\n",
       "})"
      ]
     },
     "execution_count": 7,
     "metadata": {},
     "output_type": "execute_result"
    }
   ],
   "source": [
    "model.plot()"
   ]
  },
  {
   "cell_type": "markdown",
   "metadata": {},
   "source": [
    "Now lets perform the fit and plot the comparison of\n",
    "calculation and experimental data afterwards.\n",
    "\n"
   ]
  },
  {
   "cell_type": "code",
   "execution_count": 8,
   "metadata": {
    "collapsed": false,
    "execution": {
     "iopub.execute_input": "2024-06-28T09:13:50.825319Z",
     "iopub.status.busy": "2024-06-28T09:13:50.825083Z",
     "iopub.status.idle": "2024-06-28T09:13:51.143279Z",
     "shell.execute_reply": "2024-06-28T09:13:51.141989Z",
     "shell.execute_reply.started": "2024-06-28T09:13:50.825298Z"
    },
    "jupyter": {
     "outputs_hidden": false
    }
   },
   "outputs": [
    {
     "data": {
      "application/vnd.jupyter.widget-view+json": {
       "model_id": "b63385c609c94a66baf0eedc7f9ba25e",
       "version_major": 2,
       "version_minor": 0
      },
      "text/plain": [
       "FigureWidget({\n",
       "    'data': [{'hovertemplate': 'variable=Ψ<br>Wavelength=%{x}<br>value=%{y}<extra></extra>',\n",
       "              'legendgroup': 'Ψ',\n",
       "              'line': {'color': '#636efa', 'dash': 'solid'},\n",
       "              'marker': {'symbol': 'circle'},\n",
       "              'mode': 'lines',\n",
       "              'name': 'Ψ',\n",
       "              'showlegend': True,\n",
       "              'type': 'scattergl',\n",
       "              'uid': 'ed335efa-f785-4766-9a5b-8c48f9ad4c8d',\n",
       "              'x': array([400.07646, 400.51975, 400.96301, ..., 798.88197, 799.30046, 799.71891]),\n",
       "              'xaxis': 'x',\n",
       "              'y': array([32.75947, 32.84076, 32.84675, ...,      nan,      nan,      nan]),\n",
       "              'yaxis': 'y'},\n",
       "             {'hovertemplate': 'variable=Δ<br>Wavelength=%{x}<br>value=%{y}<extra></extra>',\n",
       "              'legendgroup': 'Δ',\n",
       "              'line': {'color': '#EF553B', 'dash': 'solid'},\n",
       "              'marker': {'symbol': 'circle'},\n",
       "              'mode': 'lines',\n",
       "              'name': 'Δ',\n",
       "              'showlegend': True,\n",
       "              'type': 'scattergl',\n",
       "              'uid': 'b25fd3e4-c40a-4ef7-8065-baa5ca83fe15',\n",
       "              'x': array([400.07646, 400.51975, 400.96301, ..., 798.88197, 799.30046, 799.71891]),\n",
       "              'xaxis': 'x',\n",
       "              'y': array([-132.57268, -132.11725, -131.5141 , ...,        nan,        nan,\n",
       "                                 nan]),\n",
       "              'yaxis': 'y'},\n",
       "             {'hovertemplate': 'variable=Ψ_fit<br>Wavelength=%{x}<br>value=%{y}<extra></extra>',\n",
       "              'legendgroup': 'Ψ_fit',\n",
       "              'line': {'color': '#00cc96', 'dash': 'solid'},\n",
       "              'marker': {'symbol': 'circle'},\n",
       "              'mode': 'lines',\n",
       "              'name': 'Ψ_fit',\n",
       "              'showlegend': True,\n",
       "              'type': 'scattergl',\n",
       "              'uid': 'a15841f2-0835-4d85-8e9a-e63717422f31',\n",
       "              'x': array([400.07646, 400.51975, 400.96301, ..., 798.88197, 799.30046, 799.71891]),\n",
       "              'xaxis': 'x',\n",
       "              'y': array([        nan,         nan,         nan, ..., 20.20488814, 20.23141868,\n",
       "                          20.25790068]),\n",
       "              'yaxis': 'y'},\n",
       "             {'hovertemplate': 'variable=Δ_fit<br>Wavelength=%{x}<br>value=%{y}<extra></extra>',\n",
       "              'legendgroup': 'Δ_fit',\n",
       "              'line': {'color': '#ab63fa', 'dash': 'solid'},\n",
       "              'marker': {'symbol': 'circle'},\n",
       "              'mode': 'lines',\n",
       "              'name': 'Δ_fit',\n",
       "              'showlegend': True,\n",
       "              'type': 'scattergl',\n",
       "              'uid': '541a415a-946f-488a-84c5-4d2c0b6b1ecb',\n",
       "              'x': array([400.07646, 400.51975, 400.96301, ..., 798.88197, 799.30046, 799.71891]),\n",
       "              'xaxis': 'x',\n",
       "              'y': array([          nan,           nan,           nan, ..., -118.64650333,\n",
       "                          -118.5165033 , -118.38691231]),\n",
       "              'yaxis': 'y'}],\n",
       "    'layout': {'legend': {'title': {'text': 'variable'}, 'tracegroupgap': 0},\n",
       "               'margin': {'t': 60},\n",
       "               'template': '...',\n",
       "               'xaxis': {'anchor': 'y', 'domain': [0.0, 1.0], 'title': {'text': 'Wavelength'}},\n",
       "               'yaxis': {'anchor': 'x', 'domain': [0.0, 1.0], 'title': {'text': 'value'}}}\n",
       "})"
      ]
     },
     "execution_count": 8,
     "metadata": {},
     "output_type": "execute_result"
    }
   ],
   "source": [
    "fit_stats = model.fit()\n",
    "model.plot()"
   ]
  },
  {
   "cell_type": "markdown",
   "metadata": {},
   "source": [
    "We can also have a look at the fit statistics.\n",
    "\n"
   ]
  },
  {
   "cell_type": "code",
   "execution_count": 9,
   "metadata": {
    "collapsed": false,
    "execution": {
     "iopub.execute_input": "2024-06-28T09:13:51.145117Z",
     "iopub.status.busy": "2024-06-28T09:13:51.144864Z",
     "iopub.status.idle": "2024-06-28T09:13:51.156820Z",
     "shell.execute_reply": "2024-06-28T09:13:51.155249Z",
     "shell.execute_reply.started": "2024-06-28T09:13:51.145098Z"
    },
    "jupyter": {
     "outputs_hidden": false
    }
   },
   "outputs": [
    {
     "data": {
      "text/html": [
       "<h2>Fit Result</h2> <table class=\"jp-toc-ignore\"><caption class=\"jp-toc-ignore\">Fit Statistics</caption><tr><td style='text-align:left'>fitting method</td><td style='text-align:right'>leastsq</td></tr><tr><td style='text-align:left'># function evals</td><td style='text-align:right'>32</td></tr><tr><td style='text-align:left'># data points</td><td style='text-align:right'>1852</td></tr><tr><td style='text-align:left'># variables</td><td style='text-align:right'>4</td></tr><tr><td style='text-align:left'>chi-square</td><td style='text-align:right'> 0.04160577</td></tr><tr><td style='text-align:left'>reduced chi-square</td><td style='text-align:right'> 2.2514e-05</td></tr><tr><td style='text-align:left'>Akaike info crit.</td><td style='text-align:right'>-19814.9521</td></tr><tr><td style='text-align:left'>Bayesian info crit.</td><td style='text-align:right'>-19792.8560</td></tr></table><table class=\"jp-toc-ignore\"><caption>Parameters</caption><tr><th style='text-align:left'>name</th><th style='text-align:left'>value</th><th style='text-align:left'>standard error</th><th style='text-align:left'>relative error</th><th style='text-align:left'>initial value</th><th style='text-align:left'>min</th><th style='text-align:left'>max</th><th style='text-align:right'>vary</th></tr><tr><td style='text-align:left'>SiO2_n0</td><td style='text-align:left'> 1.45200000</td><td style='text-align:left'> 0.00000000</td><td style='text-align:left'>(0.00%)</td><td style='text-align:left'>1.452</td><td style='text-align:left'>-100.000000</td><td style='text-align:left'> 100.000000</td><td style='text-align:right'>False</td></tr><tr><td style='text-align:left'>SiO2_n1</td><td style='text-align:left'> 36.0000000</td><td style='text-align:left'> 0.00000000</td><td style='text-align:left'>(0.00%)</td><td style='text-align:left'>36.0</td><td style='text-align:left'>-40000.0000</td><td style='text-align:left'> 40000.0000</td><td style='text-align:right'>False</td></tr><tr><td style='text-align:left'>SiO2_n2</td><td style='text-align:left'> 0.00000000</td><td style='text-align:left'> 0.00000000</td><td style='text-align:left'></td><td style='text-align:left'>0</td><td style='text-align:left'>-40000.0000</td><td style='text-align:left'> 40000.0000</td><td style='text-align:right'>False</td></tr><tr><td style='text-align:left'>SiO2_k0</td><td style='text-align:left'> 0.00000000</td><td style='text-align:left'> 0.00000000</td><td style='text-align:left'></td><td style='text-align:left'>0</td><td style='text-align:left'>-100.000000</td><td style='text-align:left'> 100.000000</td><td style='text-align:right'>False</td></tr><tr><td style='text-align:left'>SiO2_k1</td><td style='text-align:left'> 0.00000000</td><td style='text-align:left'> 0.00000000</td><td style='text-align:left'></td><td style='text-align:left'>0</td><td style='text-align:left'>-40000.0000</td><td style='text-align:left'> 40000.0000</td><td style='text-align:right'>False</td></tr><tr><td style='text-align:left'>SiO2_k2</td><td style='text-align:left'> 0.00000000</td><td style='text-align:left'> 0.00000000</td><td style='text-align:left'></td><td style='text-align:left'>0</td><td style='text-align:left'>-40000.0000</td><td style='text-align:left'> 40000.0000</td><td style='text-align:right'>False</td></tr><tr><td style='text-align:left'>SiO2_d</td><td style='text-align:left'> 276.360000</td><td style='text-align:left'> 0.00000000</td><td style='text-align:left'>(0.00%)</td><td style='text-align:left'>276.36</td><td style='text-align:left'> 0.00000000</td><td style='text-align:left'> 40000.0000</td><td style='text-align:right'>False</td></tr><tr><td style='text-align:left'>TiO2_n0</td><td style='text-align:left'> 2.22973557</td><td style='text-align:left'> 0.00472756</td><td style='text-align:left'>(0.21%)</td><td style='text-align:left'>2.236</td><td style='text-align:left'>-100.000000</td><td style='text-align:left'> 100.000000</td><td style='text-align:right'>True</td></tr><tr><td style='text-align:left'>TiO2_n1</td><td style='text-align:left'> 461.689341</td><td style='text-align:left'> 22.1724775</td><td style='text-align:left'>(4.80%)</td><td style='text-align:left'>451</td><td style='text-align:left'>-40000.0000</td><td style='text-align:left'> 40000.0000</td><td style='text-align:right'>True</td></tr><tr><td style='text-align:left'>TiO2_n2</td><td style='text-align:left'> 189.779573</td><td style='text-align:left'> 25.7876508</td><td style='text-align:left'>(13.59%)</td><td style='text-align:left'>251</td><td style='text-align:left'>-40000.0000</td><td style='text-align:left'> 40000.0000</td><td style='text-align:right'>True</td></tr><tr><td style='text-align:left'>TiO2_k0</td><td style='text-align:left'> 0.00000000</td><td style='text-align:left'> 0.00000000</td><td style='text-align:left'></td><td style='text-align:left'>0</td><td style='text-align:left'>-100.000000</td><td style='text-align:left'> 100.000000</td><td style='text-align:right'>False</td></tr><tr><td style='text-align:left'>TiO2_k1</td><td style='text-align:left'> 0.00000000</td><td style='text-align:left'> 0.00000000</td><td style='text-align:left'></td><td style='text-align:left'>0</td><td style='text-align:left'>-40000.0000</td><td style='text-align:left'> 40000.0000</td><td style='text-align:right'>False</td></tr><tr><td style='text-align:left'>TiO2_k2</td><td style='text-align:left'> 0.00000000</td><td style='text-align:left'> 0.00000000</td><td style='text-align:left'></td><td style='text-align:left'>0</td><td style='text-align:left'>-40000.0000</td><td style='text-align:left'> 40000.0000</td><td style='text-align:right'>False</td></tr><tr><td style='text-align:left'>TiO2_d</td><td style='text-align:left'> 24.8446396</td><td style='text-align:left'> 0.01013894</td><td style='text-align:left'>(0.04%)</td><td style='text-align:left'>20</td><td style='text-align:left'> 0.00000000</td><td style='text-align:left'> 40000.0000</td><td style='text-align:right'>True</td></tr></table><table class=\"jp-toc-ignore\"><caption>Correlations (unreported values are < 0.100)</caption><tr><th style='text-align:left'>Parameter1</th><th style='text-align:left'>Parameter 2</th><th style='text-align:right'>Correlation</th></tr><tr><td style='text-align:left'>TiO2_n0</td><td style='text-align:left'>TiO2_n1</td><td style='text-align:right'>-0.9910</td></tr><tr><td style='text-align:left'>TiO2_n1</td><td style='text-align:left'>TiO2_n2</td><td style='text-align:right'>-0.9879</td></tr><tr><td style='text-align:left'>TiO2_n0</td><td style='text-align:left'>TiO2_n2</td><td style='text-align:right'>+0.9640</td></tr></table>"
      ],
      "text/plain": [
       "<lmfit.minimizer.MinimizerResult at 0x7f0fcadbac00>"
      ]
     },
     "execution_count": 9,
     "metadata": {},
     "output_type": "execute_result"
    }
   ],
   "source": [
    "fit_stats"
   ]
  },
  {
   "cell_type": "markdown",
   "metadata": {},
   "source": [
    "## References\n",
    "[Here](https://github.com/PyEllips/pyElli/tree/master/examples/TiO2%20Fit)\n",
    "you can find the latest jupyter notebook and data files of this example.\n",
    "\n"
   ]
  }
 ],
 "metadata": {
  "kernelspec": {
   "display_name": "Python 3 (ipykernel)",
   "language": "python",
   "name": "python3"
  },
  "language_info": {
   "codemirror_mode": {
    "name": "ipython",
    "version": 3
   },
   "file_extension": ".py",
   "mimetype": "text/x-python",
   "name": "python",
   "nbconvert_exporter": "python",
   "pygments_lexer": "ipython3",
   "version": "3.12.3"
  }
 },
 "nbformat": 4,
 "nbformat_minor": 4
}
