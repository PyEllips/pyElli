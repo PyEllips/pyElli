{
 "cells": [
  {
   "cell_type": "markdown",
   "id": "547eb7b4",
   "metadata": {},
   "source": [
    "# We reproduce results from section 6.4.2 in 'Spectroscopic Ellipsometry', by H. Fujiwara\n",
    "Author: O. Castany, M. Müller\n",
    "\n",
    "Verification of the internal functions of the PyElli code against results presented in Fujiwara's book\n",
    "p. 241 (section 6.4.2). References in the comments refer to this book.\n",
    "Expected results are indicated after the commands. They are identical\n",
    "with Fujiwara's results, except for a sign convention for Erp.\n",
    "\n",
    "We simulate an air / anisotropic thin film / silicon substrate system and calculate:\n",
    "- The permittivity tensor of the anisotropic film\n",
    "- The Delta Matrix and its eigenvalues\n",
    "- The propagation matrix for the film\n",
    "- The Jones reflection matrix\n",
    "- The ellipsometric parameters Ψ and Δ\n",
    "- Full angular dependences of Ψ_pp, Ψ_ps, Δ_pp, and Δ_ps as shown in Figure 6.19"
   ]
  },
  {
   "cell_type": "code",
   "execution_count": 1,
   "id": "c49c1a2a",
   "metadata": {
    "execution": {
     "iopub.execute_input": "2025-10-05T23:27:42.493323Z",
     "iopub.status.busy": "2025-10-05T23:27:42.493133Z",
     "iopub.status.idle": "2025-10-05T23:27:43.855367Z",
     "shell.execute_reply": "2025-10-05T23:27:43.855052Z",
     "shell.execute_reply.started": "2025-10-05T23:27:42.493309Z"
    }
   },
   "outputs": [],
   "source": [
    "import numpy as np\n",
    "import elli\n",
    "from scipy.constants import pi\n",
    "import matplotlib.pyplot as pyplot\n",
    "import scipy.linalg\n",
    "\n",
    "# reduces the number of printed figures in numbers:\n",
    "np.set_printoptions(suppress=True, precision=4)"
   ]
  },
  {
   "cell_type": "markdown",
   "id": "9e786f70",
   "metadata": {},
   "source": [
    "## Define the Sample: Air / anisotropic film / silicon substrate"
   ]
  },
  {
   "cell_type": "code",
   "execution_count": 2,
   "id": "4d1deaee",
   "metadata": {
    "execution": {
     "iopub.execute_input": "2025-10-05T23:27:43.855881Z",
     "iopub.status.busy": "2025-10-05T23:27:43.855706Z",
     "iopub.status.idle": "2025-10-05T23:27:43.858025Z",
     "shell.execute_reply": "2025-10-05T23:27:43.857750Z",
     "shell.execute_reply.started": "2025-10-05T23:27:43.855869Z"
    }
   },
   "outputs": [],
   "source": [
    "n_i = 1.0   # Incident medium: air\n",
    "n_o = 2.0   # Ordinary index of the uniaxial film\n",
    "n_e = 2.5   # Extraordinary index of the uniaxial film\n",
    "lbda = 620  # Wavelength (nm)\n",
    "Phi_i = 70  # Angle of incidence (degrees)\n",
    "d = 100     # Layer thickness (nm)\n",
    "\n",
    "# Euler angles for optical axis orientation of the film\n",
    "Phi_E = 45  # 1st Euler angle (azimuth)\n",
    "Theta_E = 45  # 2nd Euler angle (tilt)"
   ]
  },
  {
   "cell_type": "markdown",
   "id": "a028df18",
   "metadata": {},
   "source": [
    "## Permittivity tensor of the anisotropic film (eq 6.63, p. 241):"
   ]
  },
  {
   "cell_type": "code",
   "execution_count": 3,
   "id": "0061ca18",
   "metadata": {
    "execution": {
     "iopub.execute_input": "2025-10-05T23:27:43.858437Z",
     "iopub.status.busy": "2025-10-05T23:27:43.858337Z",
     "iopub.status.idle": "2025-10-05T23:27:43.863814Z",
     "shell.execute_reply": "2025-10-05T23:27:43.863459Z",
     "shell.execute_reply.started": "2025-10-05T23:27:43.858427Z"
    }
   },
   "outputs": [
    {
     "name": "stdout",
     "output_type": "stream",
     "text": [
      "[[[ 4.5625+0.j -0.5625+0.j  0.7955+0.j]\n",
      "  [-0.5625+0.j  4.5625+0.j -0.7955+0.j]\n",
      "  [ 0.7955+0.j -0.7955+0.j  5.125 +0.j]]]\n"
     ]
    }
   ],
   "source": [
    "filmMaterial = elli.UniaxialMaterial(\n",
    "    elli.ConstantRefractiveIndex(n_o), elli.ConstantRefractiveIndex(n_e)\n",
    ")\n",
    "R = elli.rotation_euler(Phi_E, Theta_E, 0)\n",
    "filmMaterial.set_rotation(R)\n",
    "print(filmMaterial.get_tensor(lbda))"
   ]
  },
  {
   "cell_type": "markdown",
   "id": "74d6bbda",
   "metadata": {},
   "source": [
    "Expected output:\n",
    "```python\n",
    "[[[ 4.5625, -0.5625,  0.7955],\n",
    "  [-0.5625,  4.5625, -0.7955],\n",
    "  [ 0.7955, -0.7955,  5.125 ]]]\n",
    "```"
   ]
  },
  {
   "cell_type": "markdown",
   "id": "7ef5dac3-b628-4679-968b-892293f413ef",
   "metadata": {
    "execution": {
     "iopub.execute_input": "2025-10-05T23:11:11.244955Z",
     "iopub.status.busy": "2025-10-05T23:11:11.244523Z",
     "iopub.status.idle": "2025-10-05T23:11:11.246870Z",
     "shell.execute_reply": "2025-10-05T23:11:11.246545Z",
     "shell.execute_reply.started": "2025-10-05T23:11:11.244939Z"
    }
   },
   "source": [
    "## In-Plane Wavevector Component (Kx)"
   ]
  },
  {
   "cell_type": "code",
   "execution_count": 4,
   "id": "382abbcb",
   "metadata": {
    "execution": {
     "iopub.execute_input": "2025-10-05T23:27:43.864356Z",
     "iopub.status.busy": "2025-10-05T23:27:43.864232Z",
     "iopub.status.idle": "2025-10-05T23:27:43.866863Z",
     "shell.execute_reply": "2025-10-05T23:27:43.866531Z",
     "shell.execute_reply.started": "2025-10-05T23:27:43.864344Z"
    }
   },
   "outputs": [
    {
     "name": "stdout",
     "output_type": "stream",
     "text": [
      "Kx: 0.9397\n"
     ]
    }
   ],
   "source": [
    "air = elli.IsotropicMaterial(elli.ConstantRefractiveIndex(n_i))\n",
    "Kx = n_i * np.sin(np.deg2rad(Phi_i))\n",
    "\n",
    "print(\"Kx: {:.4f}\".format(Kx))"
   ]
  },
  {
   "cell_type": "markdown",
   "id": "a004020f",
   "metadata": {},
   "source": [
    "Expected output:\n",
    "```python\n",
    "Kx = 0.9397\n",
    "```"
   ]
  },
  {
   "cell_type": "markdown",
   "id": "dabbbb3d-b720-4ef8-9e3a-01ffd2d382b5",
   "metadata": {},
   "source": [
    "## Delta matrix (Δ_B) and it's Eigenvalues (eq 6.64, p.241)"
   ]
  },
  {
   "cell_type": "code",
   "execution_count": 5,
   "id": "5fc1d1a9",
   "metadata": {
    "execution": {
     "iopub.execute_input": "2025-10-05T23:27:43.868244Z",
     "iopub.status.busy": "2025-10-05T23:27:43.868103Z",
     "iopub.status.idle": "2025-10-05T23:27:43.871598Z",
     "shell.execute_reply": "2025-10-05T23:27:43.871183Z",
     "shell.execute_reply.started": "2025-10-05T23:27:43.868232Z"
    }
   },
   "outputs": [
    {
     "name": "stdout",
     "output_type": "stream",
     "text": [
      "\n",
      "Delta matrix:\n",
      "[[[-0.1459+0.j  0.1459-0.j  0.    +0.j  0.8277+0.j]\n",
      "  [ 0.    +0.j  0.    +0.j -1.    +0.j  0.    +0.j]\n",
      "  [ 0.439 +0.j -3.556 +0.j  0.    +0.j -0.1459+0.j]\n",
      "  [ 4.439 +0.j -0.439 +0.j  0.    +0.j -0.1459+0.j]]]\n",
      "\n",
      "Eigenvalues of the Delta matrix:\n",
      "[-2.174  -1.7655  1.7655  1.8822]\n"
     ]
    }
   ],
   "source": [
    "film = elli.Layer(filmMaterial, d)\n",
    "epsilon = filmMaterial.get_tensor(lbda)\n",
    "Delta = elli.Solver4x4.build_delta_matrix(Kx, epsilon)\n",
    "print(\"\\nDelta matrix:\")\n",
    "print(Delta)\n",
    "\n",
    "q, Psi = scipy.linalg.eig(Delta[0])\n",
    "print(\"\\nEigenvalues of the Delta matrix:\")\n",
    "print(np.real(q))"
   ]
  },
  {
   "cell_type": "markdown",
   "id": "53c5497b",
   "metadata": {},
   "source": [
    "Expected output:\n",
    "```python\n",
    "# Delta matrix:\n",
    "[[[-0.1459,  0.1459,  0.    ,  0.8277],\n",
    "  [ 0.    ,  0.    , -1.    ,  0.    ],\n",
    "  [ 0.439 , -3.556 ,  0.    , -0.1459],\n",
    "  [ 4.439 , -0.439 ,  0.    , -0.1459]]]\n",
    "\n",
    "# Eigenvalues of Delta\n",
    "[-2.174 , -1.7655,  1.7655,  1.8822]\n",
    "```"
   ]
  },
  {
   "cell_type": "markdown",
   "id": "ad5c6eb2-0c4f-48be-bb45-4446818f8dc5",
   "metadata": {},
   "source": [
    "## Propagation Matrix (T_p, eq 6.66, p. 242)"
   ]
  },
  {
   "cell_type": "code",
   "execution_count": 6,
   "id": "24e1ffc5",
   "metadata": {
    "execution": {
     "iopub.execute_input": "2025-10-05T23:27:43.872517Z",
     "iopub.status.busy": "2025-10-05T23:27:43.872415Z",
     "iopub.status.idle": "2025-10-05T23:27:43.875697Z",
     "shell.execute_reply": "2025-10-05T23:27:43.875399Z",
     "shell.execute_reply.started": "2025-10-05T23:27:43.872508Z"
    },
    "scrolled": true
   },
   "outputs": [
    {
     "name": "stdout",
     "output_type": "stream",
     "text": [
      "\n",
      "Propagation matrix:\n",
      "[[[-0.3516-0.0572j  0.0906-0.001j   0.0334+0.0437j  0.0561-0.3971j]\n",
      "  [ 0.1042+0.0795j -0.3258-0.0114j  0.0037+0.5017j -0.0334-0.0437j]\n",
      "  [ 0.1617-0.0145j -0.0166+1.7533j -0.3258-0.0114j -0.0906+0.001j ]\n",
      "  [ 0.3001-2.1207j -0.1617+0.0145j -0.1042-0.0795j -0.3516-0.0572j]]]\n"
     ]
    }
   ],
   "source": [
    "Tp = elli.PropagatorExpm().calculate_propagation(Delta, -d, np.array([lbda]))\n",
    "print(\"\\nPropagation matrix:\")\n",
    "print(Tp)"
   ]
  },
  {
   "cell_type": "markdown",
   "id": "7a22f90d",
   "metadata": {},
   "source": [
    "Expected output:\n",
    "```python\n",
    "[[[-0.353-0.057j,  0.091-0.001j,  0.033+0.044j,  0.056-0.397j],\n",
    "  [ 0.104+0.08j , -0.327-0.011j,  0.004+0.502j, -0.033-0.044j],\n",
    "  [ 0.162-0.014j, -0.017+1.753j, -0.327-0.011j, -0.091+0.001j],\n",
    "  [ 0.300-2.12j , -0.162+0.014j, -0.104-0.08j , -0.353-0.057j]]]\n",
    "```"
   ]
  },
  {
   "cell_type": "markdown",
   "id": "a2b5e994-6c2f-4467-bb5e-06582b98a172",
   "metadata": {},
   "source": [
    "## Full Stack: Air / Anisotropic Film / Silicon"
   ]
  },
  {
   "cell_type": "code",
   "execution_count": 7,
   "id": "c29cd7db-856d-45aa-b95b-9086aea5e76b",
   "metadata": {
    "execution": {
     "iopub.execute_input": "2025-10-05T23:27:43.876051Z",
     "iopub.status.busy": "2025-10-05T23:27:43.875958Z",
     "iopub.status.idle": "2025-10-05T23:27:43.878603Z",
     "shell.execute_reply": "2025-10-05T23:27:43.878353Z",
     "shell.execute_reply.started": "2025-10-05T23:27:43.876042Z"
    }
   },
   "outputs": [],
   "source": [
    "n_t = 3.898 + 0.016j  # Substrate refractive index (Si at 620 nm)\n",
    "silicon = elli.ConstantRefractiveIndex(n_t).get_mat()\n",
    "s = elli.Structure(air, [film], silicon)\n",
    "result = s.evaluate(np.array([lbda]), Phi_i)"
   ]
  },
  {
   "cell_type": "markdown",
   "id": "1f0fd332-8fc8-4857-ba2b-d9cc45dd06d2",
   "metadata": {},
   "source": [
    "## Jones Reflection Matrix and Ellipsometry Parameters"
   ]
  },
  {
   "cell_type": "code",
   "execution_count": 8,
   "id": "be31c21d-269e-48ba-b47e-c10b8f55639d",
   "metadata": {
    "execution": {
     "iopub.execute_input": "2025-10-05T23:27:43.878952Z",
     "iopub.status.busy": "2025-10-05T23:27:43.878861Z",
     "iopub.status.idle": "2025-10-05T23:27:43.881543Z",
     "shell.execute_reply": "2025-10-05T23:27:43.881269Z",
     "shell.execute_reply.started": "2025-10-05T23:27:43.878943Z"
    }
   },
   "outputs": [
    {
     "name": "stdout",
     "output_type": "stream",
     "text": [
      "\n",
      "Jones reflexion matrix:\n",
      "[[[-0.3107-0.1606j -0.1067-0.0019j]\n",
      "  [ 0.0422-0.0359j -0.5512+0.1507j]]]\n",
      "\n",
      "Ellipsometry parameters:\n",
      "Psi\n",
      "[[[31.4728 10.5742]\n",
      "  [ 5.5361 45.    ]]]\n",
      "Delta\n",
      "[[[ -42.629   -16.3048]\n",
      "  [-154.8662    0.    ]]]\n"
     ]
    }
   ],
   "source": [
    "Jr = result.jones_matrix_r\n",
    "print(\"\\nJones reflexion matrix:\")\n",
    "print(Jr)\n",
    "\n",
    "print(\"\\nEllipsometry parameters:\")\n",
    "(Psi, Delta) = (result.psi_matrix, result.delta_matrix)\n",
    "print(\"Psi\\n\" + str(Psi))\n",
    "print(\"Delta\\n\" + str(Delta))"
   ]
  },
  {
   "cell_type": "markdown",
   "id": "b8f61931",
   "metadata": {},
   "source": [
    "Expected output:\n",
    "```python\n",
    "Jr =\n",
    "[[[ 0.310+0.161j,  0.107+0.002j],\n",
    "  [ 0.042-0.036j, -0.552+0.151j]]]\n",
    "```\n",
    "The first line, [r_pp, r_ps], has reversed sign compared to Fujiwara's result, due to the different convention for Erp.\n",
    "\n",
    "Ellipsometry parameters:\n",
    "```python\n",
    "Psi                         Delta\n",
    "[[ 31.4419  10.5641]         [[ -42.734   -16.4123]\n",
    " [  5.5332  45.    ]]         [-155.024     0.    ]]\n",
    "```"
   ]
  },
  {
   "cell_type": "markdown",
   "id": "ede9d8d3-4dc7-4b59-b603-4f928ef83b62",
   "metadata": {
    "execution": {
     "iopub.execute_input": "2025-10-05T23:18:15.744789Z",
     "iopub.status.busy": "2025-10-05T23:18:15.744632Z",
     "iopub.status.idle": "2025-10-05T23:18:15.746883Z",
     "shell.execute_reply": "2025-10-05T23:18:15.746602Z",
     "shell.execute_reply.started": "2025-10-05T23:18:15.744773Z"
    }
   },
   "source": [
    "## Reproducing Figure 6.19: Ψ and Δ vs. Φ_E\n",
    "\n",
    "This figure shows the dependence of Ψ and Δ on the azimuthal orientation Φ_E of the anisotropic film for different tilt angles Θ_E."
   ]
  },
  {
   "cell_type": "markdown",
   "id": "d31d24dc-3e82-406d-8da7-a54ef6b48243",
   "metadata": {
    "execution": {
     "iopub.execute_input": "2025-10-05T23:25:30.173882Z",
     "iopub.status.busy": "2025-10-05T23:25:30.173646Z",
     "iopub.status.idle": "2025-10-05T23:25:30.286027Z",
     "shell.execute_reply": "2025-10-05T23:25:30.285702Z",
     "shell.execute_reply.started": "2025-10-05T23:25:30.173862Z"
    }
   },
   "source": [
    "### Angular Sweep and Data Collection"
   ]
  },
  {
   "cell_type": "code",
   "execution_count": 9,
   "id": "6d9b2921-a510-4afd-bdf8-9041f6885e67",
   "metadata": {
    "execution": {
     "iopub.execute_input": "2025-10-05T23:27:43.881872Z",
     "iopub.status.busy": "2025-10-05T23:27:43.881783Z",
     "iopub.status.idle": "2025-10-05T23:27:44.053755Z",
     "shell.execute_reply": "2025-10-05T23:27:44.053439Z",
     "shell.execute_reply.started": "2025-10-05T23:27:43.881863Z"
    }
   },
   "outputs": [],
   "source": [
    "Theta_E_list = [0, 45, 90]\n",
    "Phi_E_list = np.linspace(0, 180, 36 * 2 + 1)\n",
    "\n",
    "data = elli.ResultList()\n",
    "\n",
    "for Theta_E in Theta_E_list:\n",
    "    for Phi_E in Phi_E_list:\n",
    "        R = elli.rotation_euler(Phi_E, Theta_E, 0)\n",
    "        filmMaterial.set_rotation(R)\n",
    "        data.append(s.evaluate(np.array([lbda]), Phi_i))"
   ]
  },
  {
   "cell_type": "markdown",
   "id": "714eacad-fceb-4ad3-acd3-c11ccf1b0a03",
   "metadata": {
    "execution": {
     "iopub.execute_input": "2025-10-05T23:25:45.819553Z",
     "iopub.status.busy": "2025-10-05T23:25:45.819119Z",
     "iopub.status.idle": "2025-10-05T23:25:45.829608Z",
     "shell.execute_reply": "2025-10-05T23:25:45.829329Z",
     "shell.execute_reply.started": "2025-10-05T23:25:45.819534Z"
    }
   },
   "source": [
    "### Reshape Results for Plotting"
   ]
  },
  {
   "cell_type": "code",
   "execution_count": 10,
   "id": "19a6db83-b46c-4c9b-8cb5-9cfc010ee333",
   "metadata": {
    "execution": {
     "iopub.execute_input": "2025-10-05T23:27:44.054293Z",
     "iopub.status.busy": "2025-10-05T23:27:44.054150Z",
     "iopub.status.idle": "2025-10-05T23:27:44.061883Z",
     "shell.execute_reply": "2025-10-05T23:27:44.061521Z",
     "shell.execute_reply.started": "2025-10-05T23:27:44.054280Z"
    }
   },
   "outputs": [],
   "source": [
    "psi_pp = data.psi_pp.reshape(3, 73).T\n",
    "psi_ps = data.psi_ps.reshape(3, 73).T\n",
    "\n",
    "delta_pp = data.delta_pp.reshape(3, 73).T\n",
    "delta_ps = data.delta_ps.reshape(3, 73).T"
   ]
  },
  {
   "cell_type": "markdown",
   "id": "0c0253f6-216e-4647-b6f1-f24a9b070b79",
   "metadata": {},
   "source": [
    "### Plotting Figure 6.19"
   ]
  },
  {
   "cell_type": "code",
   "execution_count": 11,
   "id": "a62f5312",
   "metadata": {
    "execution": {
     "iopub.execute_input": "2025-10-05T23:27:44.062389Z",
     "iopub.status.busy": "2025-10-05T23:27:44.062269Z",
     "iopub.status.idle": "2025-10-05T23:27:44.355936Z",
     "shell.execute_reply": "2025-10-05T23:27:44.355618Z",
     "shell.execute_reply.started": "2025-10-05T23:27:44.062378Z"
    }
   },
   "outputs": [
    {
     "data": {
      "image/png": "[encoded data removed]",
      "text/plain": [
       "<Figure size 640x480 with 4 Axes>"
      ]
     },
     "metadata": {},
     "output_type": "display_data"
    }
   ],
   "source": [
    "fig = pyplot.figure()\n",
    "# Plot curves for the three values of Theta_E\n",
    "pyplot.rcParams[\"axes.prop_cycle\"] = pyplot.cycler(\"color\", \"kbg\")\n",
    "ax1 = fig.add_subplot(2, 2, 1)\n",
    "ax1.plot(Phi_E_list, psi_pp)\n",
    "ax1.set_ylabel(r\"$\\Psi_{pp}$\")\n",
    "\n",
    "ax2 = fig.add_subplot(2, 2, 2)\n",
    "ax2.plot(Phi_E_list, delta_pp)\n",
    "ax2.set_ylabel(r\"$\\Delta_{pp}$\")\n",
    "\n",
    "# Plot curves for two values of Theta_E\n",
    "pyplot.rcParams[\"axes.prop_cycle\"] = pyplot.cycler(\"color\", \"kbg\")\n",
    "ax3 = fig.add_subplot(2, 2, 3)\n",
    "ax3.plot(Phi_E_list, psi_ps)\n",
    "ax3.set_ylabel(r\"$\\Psi_{ps}$\")\n",
    "ax3.set_xlabel(r\"$\\phi_E$\")\n",
    "\n",
    "ax4 = fig.add_subplot(2, 2, 4)\n",
    "ax4.plot(Phi_E_list, delta_ps)\n",
    "ax4.set_ylabel(r\"$\\Delta_{ps}$\")\n",
    "ax4.set_xlabel(r\"$\\phi_E$\")\n",
    "\n",
    "pyplot.tight_layout()\n",
    "pyplot.show()"
   ]
  },
  {
   "cell_type": "code",
   "execution_count": null,
   "id": "d33f7a6e",
   "metadata": {},
   "outputs": [],
   "source": []
  }
 ],
 "metadata": {
  "jupytext": {
   "cell_metadata_filter": "-all",
   "encoding": "# encoding: utf-8",
   "executable": "/usr/bin/python3",
   "formats": "ipynb,auto:hydrogen",
   "main_language": "python",
   "notebook_metadata_filter": "-all"
  },
  "kernelspec": {
   "display_name": "Python 3 (ipykernel)",
   "language": "python",
   "name": "python3"
  },
  "language_info": {
   "codemirror_mode": {
    "name": "ipython",
    "version": 3
   },
   "file_extension": ".py",
   "mimetype": "text/x-python",
   "name": "python",
   "nbconvert_exporter": "python",
   "pygments_lexer": "ipython3",
   "version": "3.13.7"
  },
  "vscode": {
   "interpreter": {
    "hash": "0cbdf5d5ef28617c8bf3753ff15cd1b7b5539de5aaa68a35c3d38ca27e1ab0fa"
   }
  },
  "widgets": {
   "application/vnd.jupyter.widget-state+json": {
    "state": {},
    "version_major": 2,
    "version_minor": 0
   }
  }
 },
 "nbformat": 4,
 "nbformat_minor": 5
}
