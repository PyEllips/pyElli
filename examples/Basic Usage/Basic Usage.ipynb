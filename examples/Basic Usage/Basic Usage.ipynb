{
 "cells": [
  {
   "cell_type": "code",
   "execution_count": 1,
   "metadata": {
    "collapsed": false,
    "execution": {
     "iopub.execute_input": "2025-10-14T20:20:25.560020Z",
     "iopub.status.busy": "2025-10-14T20:20:25.559879Z",
     "iopub.status.idle": "2025-10-14T20:20:25.881021Z",
     "shell.execute_reply": "2025-10-14T20:20:25.880665Z",
     "shell.execute_reply.started": "2025-10-14T20:20:25.560007Z"
    },
    "jupyter": {
     "outputs_hidden": false
    }
   },
   "outputs": [],
   "source": [
    "%matplotlib inline"
   ]
  },
  {
   "cell_type": "markdown",
   "metadata": {},
   "source": [
    "# Basic usage of pyElli\n",
    "\n",
    "Basic usage of building a model and fitting it to measurement data of SiO2 on Si."
   ]
  },
  {
   "cell_type": "markdown",
   "metadata": {},
   "source": [
    "## Import required libraries"
   ]
  },
  {
   "cell_type": "code",
   "execution_count": 2,
   "metadata": {
    "collapsed": false,
    "execution": {
     "iopub.execute_input": "2025-10-14T20:20:25.881552Z",
     "iopub.status.busy": "2025-10-14T20:20:25.881399Z",
     "iopub.status.idle": "2025-10-14T20:20:27.418996Z",
     "shell.execute_reply": "2025-10-14T20:20:27.418650Z",
     "shell.execute_reply.started": "2025-10-14T20:20:25.881538Z"
    },
    "jupyter": {
     "outputs_hidden": false
    }
   },
   "outputs": [],
   "source": [
    "import elli\n",
    "from elli.fitting import ParamsHist, fit\n",
    "\n",
    "# sphinx_gallery_thumbnail_path = '_static/basic_usage.png'"
   ]
  },
  {
   "cell_type": "markdown",
   "metadata": {},
   "source": [
    "## Reading data\n",
    "\n",
    "We load the data from the generated\n",
    "[NeXus file](https://manual.nexusformat.org/classes/contributed_definitions/NXellipsometry.html#nxellipsometry)\n",
    "and select the angle we want to analyse.\n",
    "You may set the ANGLE constant to 50 or 60 to select\n",
    "other angles of incidence from the example file.\n",
    "Additionally, we're cutting the wavelength axis to be in between 210 nm and 800 nm.\n",
    "This is because we're using literature values for Si,\n",
    "which are only defined in this wavelength range.\n",
    "\n"
   ]
  },
  {
   "cell_type": "code",
   "execution_count": 3,
   "metadata": {
    "collapsed": false,
    "execution": {
     "iopub.execute_input": "2025-10-14T20:20:27.419574Z",
     "iopub.status.busy": "2025-10-14T20:20:27.419377Z",
     "iopub.status.idle": "2025-10-14T20:20:27.439856Z",
     "shell.execute_reply": "2025-10-14T20:20:27.439493Z",
     "shell.execute_reply.started": "2025-10-14T20:20:27.419562Z"
    },
    "jupyter": {
     "outputs_hidden": false
    }
   },
   "outputs": [],
   "source": [
    "ANGLE = 70\n",
    "psi_delta = elli.read_nexus_psi_delta(\"SiO2onSi.ellips.nxs\").loc[ANGLE].loc[210:800]"
   ]
  },
  {
   "cell_type": "markdown",
   "metadata": {},
   "source": [
    "## Setting parameters\n",
    "\n",
    "As an example we analyse an oxidation layer of SiO2 on Si.\n",
    "Prior to defining our model, we have to set the parameters we want to use.\n",
    "We're going to use a `Cauchy model <cauchy>` for SiO2 and load the Si values from\n",
    "[literature values](https://refractiveindex.info/?shelf=main&book=Si&page=Aspnes).\n",
    "The parameter names can be choosen freely,\n",
    "but you have to use the exact same name in the later model definition.\n",
    "The package uses lmfit as fitting tool and you may refer to their\n",
    "[documentation](https://lmfit.github.io/lmfit-py/parameters.html#lmfit.parameter.Parameters.add)\n",
    "for details on parameter definition.\n",
    "\n"
   ]
  },
  {
   "cell_type": "code",
   "execution_count": 4,
   "metadata": {
    "collapsed": false,
    "execution": {
     "iopub.execute_input": "2025-10-14T20:20:27.440445Z",
     "iopub.status.busy": "2025-10-14T20:20:27.440307Z",
     "iopub.status.idle": "2025-10-14T20:20:27.444143Z",
     "shell.execute_reply": "2025-10-14T20:20:27.443715Z",
     "shell.execute_reply.started": "2025-10-14T20:20:27.440432Z"
    },
    "jupyter": {
     "outputs_hidden": false
    }
   },
   "outputs": [],
   "source": [
    "params = ParamsHist()\n",
    "params.add(\"SiO2_n0\", value=1.452, min=-100, max=100, vary=False)\n",
    "params.add(\"SiO2_n1\", value=36.0, min=-40000, max=40000, vary=False)\n",
    "params.add(\"SiO2_n2\", value=0, min=-40000, max=40000, vary=False)\n",
    "params.add(\"SiO2_k0\", value=0, min=-100, max=100, vary=False)\n",
    "params.add(\"SiO2_k1\", value=0, min=-40000, max=40000, vary=False)\n",
    "params.add(\"SiO2_k2\", value=0, min=-40000, max=40000, vary=False)\n",
    "params.add(\"SiO2_d\", value=20, min=0, max=40000, vary=True)"
   ]
  },
  {
   "cell_type": "markdown",
   "metadata": {},
   "source": [
    "## Load silicon dispersion from the refractiveindexinfo database\n",
    "You can load any material from the index\n",
    "[refractiveindex.info](https://refractiveindex.info)_, which is\n",
    "embedded into the software (so you may use it offline, too). Here, we\n",
    "are interested in the literature values for the silicon substrate.\n",
    "First we need to load the database with ``rii_db = elli.db.RII()`` and\n",
    "then we can query it with ``rii_db.get_mat(\"Si\", \"Aspnes\")`` to load\n",
    "this\n",
    "[entry](https://refractiveindex.info/?shelf=main&book=Si&page=Aspnes)_.\n",
    "\n"
   ]
  },
  {
   "cell_type": "code",
   "execution_count": 5,
   "metadata": {
    "collapsed": false,
    "execution": {
     "iopub.execute_input": "2025-10-14T20:20:27.444889Z",
     "iopub.status.busy": "2025-10-14T20:20:27.444706Z",
     "iopub.status.idle": "2025-10-14T20:20:28.077637Z",
     "shell.execute_reply": "2025-10-14T20:20:28.077265Z",
     "shell.execute_reply.started": "2025-10-14T20:20:27.444872Z"
    },
    "jupyter": {
     "outputs_hidden": false
    }
   },
   "outputs": [],
   "source": [
    "rii_db = elli.db.RII()\n",
    "Si = rii_db.get_mat(\"Si\", \"Aspnes\")"
   ]
  },
  {
   "cell_type": "markdown",
   "metadata": {},
   "source": [
    "## Building the model\n",
    "\n",
    "For simple parameter estimation,\n",
    "the fit decorator (**@fit**) in conjunction with the model definition is used.\n",
    "The fitting decorator takes a pandas dataframe containing\n",
    "the psi/delta measurement data (**psi_delta**) and the model parameters (**params**) as an input.\n",
    "It then passes the wavelength from measurement dataframe (**lbda**)\n",
    "and the parameters to the actual model function.\n",
    "\n",
    "Inside the model function the optical model is built,\n",
    "i.e. the Si literature values are loaded\n",
    "and the fitting parameters are filled into the Cauchy dispersion.\n",
    "For details on how to insert data into the Cauchy model or other optical dispersion models,\n",
    "you may refer to the documentation of pyElli.\n",
    "Please keep in mind that the parameters you use here\n",
    "have to be defined in the parameter object **param**.\n",
    "\n",
    "From the dispersion model isotropic materials are generated\n",
    "(could also be an anisotropic material, refer to the docs for an overview).\n",
    "This is done by calling the :code:`elli.IsotropicMaterial(...)` function\n",
    "with a dispersion model as a parameter\n",
    "or simply calling :code:`.get_mat()` on a dispersion model.\n",
    "These two approaches are equivalent. From these materials the layer is build,\n",
    "which only consists of the SiO2 layer in this example.\n",
    "The final structure consists of an incoming half-space,\n",
    "the layers and an outgoing half space. Specifically,\n",
    "typically the light is coming from air and finally gets absorbed by the bulk material,\n",
    "in our example this is Si, i.e. we call :code:`elli.Structure(elli.AIR, Layer, Si)`.\n",
    "\n",
    "To provide simulated data, we have to evaluate the structure\n",
    "by calling the :code:`evaluate(...)` function,\n",
    "which takes the experimental wavelength array **lbda**, **ANGLE** under which the experiment\n",
    "was performed and the solver to be used to solve the transfer-matrix problem.\n",
    "Here, we use a simple 2x2 matrix approach,\n",
    "which splits the interaction in s and p-parts and therefore cannot account for anisotropy.\n",
    "There exist 4x4 matrix solvers as well.\n",
    "You may refer to the `solver documentation <solvers>` for further details.\n",
    "\n",
    "Executing the cell below in a jupyter notebook displays a comparison of the simulated Ψ / Δ values\n",
    "at the current parameter values with their measured counterparts.\n",
    "Additionally, input fields for each model parameter are shown.\n",
    "You may change the parameters and the calculated data will change accordingly.\n",
    "For clarification the modeled data is shown with `_calc` postfix in the legend.\n",
    "\n"
   ]
  },
  {
   "cell_type": "code",
   "execution_count": null,
   "metadata": {},
   "outputs": [],
   "source": [
    "@fit(psi_delta, params)\n",
    "def model(lbda, params):\n",
    "    # Generate the cauchy model from the current lmfit parameters\n",
    "    SiO2 = elli.Cauchy(\n",
    "        params[\"SiO2_n0\"],\n",
    "        params[\"SiO2_n1\"],\n",
    "        params[\"SiO2_n2\"],\n",
    "        params[\"SiO2_k0\"],\n",
    "        params[\"SiO2_k1\"],\n",
    "        params[\"SiO2_k2\"],\n",
    "    ).get_mat()\n",
    "    # get_mat() generates an IsotropicMaterial from the dispersion relation\n",
    "\n",
    "    # Construct the layers you expect in your sample\n",
    "    # Here, it only consists of one layer SiO2 in between air and Si.\n",
    "    # We build the structure coming from air, through the layers,\n",
    "    # represented as an array, and having Si as bulk material.\n",
    "    structure = elli.Structure(\n",
    "        elli.AIR,  # Input medium\n",
    "        [elli.Layer(SiO2, params[\"SiO2_d\"])],  # Overlayer structure\n",
    "        Si,\n",
    "    )  # Output medium / Substrate\n",
    "\n",
    "    # The model should return the evaluation of the structure at the experimental wavelengths lbda,\n",
    "    # the experimental angle ANGLE and it should define a solver to calculate the transfer matrix.\n",
    "    return structure.evaluate(lbda, ANGLE, solver=elli.Solver2x2)"
   ]
  },
  {
   "cell_type": "markdown",
   "metadata": {},
   "source": [
    "## Fit and plot fit results\n",
    "\n",
    "The fit of the data can be executed by calling the fit() function on the model function,\n",
    "which automatically gets attached by the @fit decorator in the cell above.\n",
    "The following cell basically executes the fit and plots\n",
    "a comparison between the measurement and fitted data.\n",
    "\n"
   ]
  },
  {
   "cell_type": "code",
   "execution_count": null,
   "metadata": {
    "collapsed": false,
    "jupyter": {
     "outputs_hidden": false
    },
    "scrolled": true
   },
   "outputs": [],
   "source": [
    "fit_stats = model.fit()\n",
    "model.plot()"
   ]
  },
  {
   "cell_type": "markdown",
   "metadata": {},
   "source": [
    "## Extracting the optical properties from the fit\n",
    "\n",
    "Since we want to extract the dispersion relation of a layer in our measured stack,\n",
    "we can use our fitted parameters.\n",
    "The fit parameters are contained in the fits output :code:`params` attribute,\n",
    "i.e. :code:`fit_stats.params` for our example.\n",
    "We can use it to call our dispersion relation we used in our model\n",
    "(here it is a Cauchy dispersion relation)\n",
    "and fill in our fitted value.\n",
    "By calling :code:`get_dielectric_df()` we can get the dielectric function of the material,\n",
    "which is plotted here as an example. :code:`get_dielectric_df` uses a default wavelength range\n",
    "which can also be changed by inputting a wavelength array as a parameter.\n",
    "\n"
   ]
  },
  {
   "cell_type": "code",
   "execution_count": null,
   "metadata": {
    "collapsed": false,
    "jupyter": {
     "outputs_hidden": false
    }
   },
   "outputs": [],
   "source": [
    "fitted_model = elli.Cauchy(\n",
    "    fit_stats.params[\"SiO2_n0\"],\n",
    "    fit_stats.params[\"SiO2_n1\"],\n",
    "    fit_stats.params[\"SiO2_n2\"],\n",
    "    fit_stats.params[\"SiO2_k0\"],\n",
    "    fit_stats.params[\"SiO2_k1\"],\n",
    "    fit_stats.params[\"SiO2_k2\"],\n",
    ")\n",
    "\n",
    "fitted_model.get_dielectric_df().plot(backend=\"plotly\")"
   ]
  },
  {
   "cell_type": "markdown",
   "metadata": {},
   "source": [
    "We can also call :code:`get_refractive_index_df()`\n",
    "to get the refractive index of the material as dataframe.\n",
    "\n"
   ]
  },
  {
   "cell_type": "code",
   "execution_count": null,
   "metadata": {
    "collapsed": false,
    "jupyter": {
     "outputs_hidden": false
    },
    "scrolled": true
   },
   "outputs": [],
   "source": [
    "fitted_model.get_refractive_index_df().plot(backend=\"plotly\")"
   ]
  },
  {
   "cell_type": "markdown",
   "metadata": {},
   "source": [
    "If you want to write your data to a file you simply call pandas :code:`to_csv(...)`\n",
    "function to write a csv file, i.e. for the dielectric function this writes as\n",
    "\n"
   ]
  },
  {
   "cell_type": "code",
   "execution_count": 10,
   "metadata": {
    "collapsed": false,
    "execution": {
     "iopub.execute_input": "2025-10-14T20:20:28.747688Z",
     "iopub.status.busy": "2025-10-14T20:20:28.747534Z",
     "iopub.status.idle": "2025-10-14T20:20:28.754092Z",
     "shell.execute_reply": "2025-10-14T20:20:28.753675Z",
     "shell.execute_reply.started": "2025-10-14T20:20:28.747673Z"
    },
    "jupyter": {
     "outputs_hidden": false
    }
   },
   "outputs": [],
   "source": [
    "fitted_model.get_dielectric_df().to_csv(\"SiO2_diel_func.csv\")"
   ]
  },
  {
   "cell_type": "markdown",
   "metadata": {},
   "source": [
    "You may also access a single value of your optical model\n",
    "\n"
   ]
  },
  {
   "cell_type": "code",
   "execution_count": 11,
   "metadata": {
    "collapsed": false,
    "execution": {
     "iopub.execute_input": "2025-10-14T20:20:28.754889Z",
     "iopub.status.busy": "2025-10-14T20:20:28.754587Z",
     "iopub.status.idle": "2025-10-14T20:20:28.757740Z",
     "shell.execute_reply": "2025-10-14T20:20:28.757383Z",
     "shell.execute_reply.started": "2025-10-14T20:20:28.754873Z"
    },
    "jupyter": {
     "outputs_hidden": false
    }
   },
   "outputs": [
    {
     "data": {
      "text/plain": [
       "1.452"
      ]
     },
     "execution_count": 11,
     "metadata": {},
     "output_type": "execute_result"
    }
   ],
   "source": [
    "fit_stats.params[\"SiO2_n0\"].value"
   ]
  },
  {
   "cell_type": "markdown",
   "metadata": {},
   "source": [
    "Our simply print the fitted values in a list together with their fitting errors\n",
    "\n"
   ]
  },
  {
   "cell_type": "code",
   "execution_count": 12,
   "metadata": {
    "collapsed": false,
    "execution": {
     "iopub.execute_input": "2025-10-14T20:20:28.758492Z",
     "iopub.status.busy": "2025-10-14T20:20:28.758317Z",
     "iopub.status.idle": "2025-10-14T20:20:28.761510Z",
     "shell.execute_reply": "2025-10-14T20:20:28.761116Z",
     "shell.execute_reply.started": "2025-10-14T20:20:28.758474Z"
    },
    "jupyter": {
     "outputs_hidden": false
    }
   },
   "outputs": [
    {
     "data": {
      "text/html": [
       "<table class=\"jp-toc-ignore\"><caption>Parameters</caption><tr><th style='text-align:left'>name</th><th style='text-align:left'>value</th><th style='text-align:left'>standard error</th><th style='text-align:left'>relative error</th><th style='text-align:left'>initial value</th><th style='text-align:left'>min</th><th style='text-align:left'>max</th><th style='text-align:right'>vary</th></tr><tr><td style='text-align:left'>SiO2_n0</td><td style='text-align:left'> 1.45200000</td><td style='text-align:left'> 0.00000000</td><td style='text-align:left'>(0.00%)</td><td style='text-align:left'>1.452</td><td style='text-align:left'>-100.000000</td><td style='text-align:left'> 100.000000</td><td style='text-align:right'>False</td></tr><tr><td style='text-align:left'>SiO2_n1</td><td style='text-align:left'> 36.0000000</td><td style='text-align:left'> 0.00000000</td><td style='text-align:left'>(0.00%)</td><td style='text-align:left'>36.0</td><td style='text-align:left'>-40000.0000</td><td style='text-align:left'> 40000.0000</td><td style='text-align:right'>False</td></tr><tr><td style='text-align:left'>SiO2_n2</td><td style='text-align:left'> 0.00000000</td><td style='text-align:left'> 0.00000000</td><td style='text-align:left'></td><td style='text-align:left'>0</td><td style='text-align:left'>-40000.0000</td><td style='text-align:left'> 40000.0000</td><td style='text-align:right'>False</td></tr><tr><td style='text-align:left'>SiO2_k0</td><td style='text-align:left'> 0.00000000</td><td style='text-align:left'> 0.00000000</td><td style='text-align:left'></td><td style='text-align:left'>0</td><td style='text-align:left'>-100.000000</td><td style='text-align:left'> 100.000000</td><td style='text-align:right'>False</td></tr><tr><td style='text-align:left'>SiO2_k1</td><td style='text-align:left'> 0.00000000</td><td style='text-align:left'> 0.00000000</td><td style='text-align:left'></td><td style='text-align:left'>0</td><td style='text-align:left'>-40000.0000</td><td style='text-align:left'> 40000.0000</td><td style='text-align:right'>False</td></tr><tr><td style='text-align:left'>SiO2_k2</td><td style='text-align:left'> 0.00000000</td><td style='text-align:left'> 0.00000000</td><td style='text-align:left'></td><td style='text-align:left'>0</td><td style='text-align:left'>-40000.0000</td><td style='text-align:left'> 40000.0000</td><td style='text-align:right'>False</td></tr><tr><td style='text-align:left'>SiO2_d</td><td style='text-align:left'> 2.06578929</td><td style='text-align:left'> 0.00753074</td><td style='text-align:left'>(0.36%)</td><td style='text-align:left'>20</td><td style='text-align:left'> 0.00000000</td><td style='text-align:left'> 40000.0000</td><td style='text-align:right'>True</td></tr></table>"
      ],
      "text/plain": [
       "ParamsHist([('SiO2_n0', <Parameter 'SiO2_n0', value=1.452 (fixed), bounds=[-100:100]>), ('SiO2_n1', <Parameter 'SiO2_n1', value=36.0 (fixed), bounds=[-40000:40000]>), ('SiO2_n2', <Parameter 'SiO2_n2', value=0 (fixed), bounds=[-40000:40000]>), ('SiO2_k0', <Parameter 'SiO2_k0', value=0 (fixed), bounds=[-100:100]>), ('SiO2_k1', <Parameter 'SiO2_k1', value=0 (fixed), bounds=[-40000:40000]>), ('SiO2_k2', <Parameter 'SiO2_k2', value=0 (fixed), bounds=[-40000:40000]>), ('SiO2_d', <Parameter 'SiO2_d', value=np.float64(2.065789285636832) +/- 0.00753, bounds=[0:40000]>)])"
      ]
     },
     "execution_count": 12,
     "metadata": {},
     "output_type": "execute_result"
    }
   ],
   "source": [
    "fit_stats.params"
   ]
  },
  {
   "cell_type": "markdown",
   "metadata": {},
   "source": [
    "## Show fit statistics\n",
    "Now, we may also print out the fit statictics from the model fit in the cell above.\n",
    "The fit statistics are simple [lmfit fit statistics](https://lmfit.github.io/lmfit-py/fitting.html#), too.\n",
    "Typically, one uses chi square values as a figure of merit for the fit quality.\n",
    "It is stored in the chisqr attribute of the fit_stats variable we defined above.\n",
    "\n"
   ]
  },
  {
   "cell_type": "code",
   "execution_count": 13,
   "metadata": {
    "collapsed": false,
    "execution": {
     "iopub.execute_input": "2025-10-14T20:20:28.762187Z",
     "iopub.status.busy": "2025-10-14T20:20:28.762033Z",
     "iopub.status.idle": "2025-10-14T20:20:28.765172Z",
     "shell.execute_reply": "2025-10-14T20:20:28.764764Z",
     "shell.execute_reply.started": "2025-10-14T20:20:28.762172Z"
    },
    "jupyter": {
     "outputs_hidden": false
    }
   },
   "outputs": [
    {
     "data": {
      "text/plain": [
       "np.float64(0.016923374970708012)"
      ]
     },
     "execution_count": 13,
     "metadata": {},
     "output_type": "execute_result"
    }
   ],
   "source": [
    "fit_stats.chisqr"
   ]
  },
  {
   "cell_type": "markdown",
   "metadata": {},
   "source": [
    "We can print the full fit statistics, too.\n",
    "\n"
   ]
  },
  {
   "cell_type": "code",
   "execution_count": 14,
   "metadata": {
    "collapsed": false,
    "execution": {
     "iopub.execute_input": "2025-10-14T20:20:28.765752Z",
     "iopub.status.busy": "2025-10-14T20:20:28.765601Z",
     "iopub.status.idle": "2025-10-14T20:20:28.768920Z",
     "shell.execute_reply": "2025-10-14T20:20:28.768506Z",
     "shell.execute_reply.started": "2025-10-14T20:20:28.765738Z"
    },
    "jupyter": {
     "outputs_hidden": false
    }
   },
   "outputs": [
    {
     "data": {
      "text/html": [
       "<h2>Fit Result</h2> <table class=\"jp-toc-ignore\"><caption class=\"jp-toc-ignore\">Fit Statistics</caption><tr><td style='text-align:left'>fitting method</td><td style='text-align:right'>leastsq</td></tr><tr><td style='text-align:left'># function evals</td><td style='text-align:right'>13</td></tr><tr><td style='text-align:left'># data points</td><td style='text-align:right'>1182</td></tr><tr><td style='text-align:left'># variables</td><td style='text-align:right'>1</td></tr><tr><td style='text-align:left'>chi-square</td><td style='text-align:right'> 0.01692337</td></tr><tr><td style='text-align:left'>reduced chi-square</td><td style='text-align:right'> 1.4330e-05</td></tr><tr><td style='text-align:left'>Akaike info crit.</td><td style='text-align:right'>-13182.0548</td></tr><tr><td style='text-align:left'>Bayesian info crit.</td><td style='text-align:right'>-13176.9798</td></tr></table><table class=\"jp-toc-ignore\"><caption>Parameters</caption><tr><th style='text-align:left'>name</th><th style='text-align:left'>value</th><th style='text-align:left'>standard error</th><th style='text-align:left'>relative error</th><th style='text-align:left'>initial value</th><th style='text-align:left'>min</th><th style='text-align:left'>max</th><th style='text-align:right'>vary</th></tr><tr><td style='text-align:left'>SiO2_n0</td><td style='text-align:left'> 1.45200000</td><td style='text-align:left'> 0.00000000</td><td style='text-align:left'>(0.00%)</td><td style='text-align:left'>1.452</td><td style='text-align:left'>-100.000000</td><td style='text-align:left'> 100.000000</td><td style='text-align:right'>False</td></tr><tr><td style='text-align:left'>SiO2_n1</td><td style='text-align:left'> 36.0000000</td><td style='text-align:left'> 0.00000000</td><td style='text-align:left'>(0.00%)</td><td style='text-align:left'>36.0</td><td style='text-align:left'>-40000.0000</td><td style='text-align:left'> 40000.0000</td><td style='text-align:right'>False</td></tr><tr><td style='text-align:left'>SiO2_n2</td><td style='text-align:left'> 0.00000000</td><td style='text-align:left'> 0.00000000</td><td style='text-align:left'></td><td style='text-align:left'>0</td><td style='text-align:left'>-40000.0000</td><td style='text-align:left'> 40000.0000</td><td style='text-align:right'>False</td></tr><tr><td style='text-align:left'>SiO2_k0</td><td style='text-align:left'> 0.00000000</td><td style='text-align:left'> 0.00000000</td><td style='text-align:left'></td><td style='text-align:left'>0</td><td style='text-align:left'>-100.000000</td><td style='text-align:left'> 100.000000</td><td style='text-align:right'>False</td></tr><tr><td style='text-align:left'>SiO2_k1</td><td style='text-align:left'> 0.00000000</td><td style='text-align:left'> 0.00000000</td><td style='text-align:left'></td><td style='text-align:left'>0</td><td style='text-align:left'>-40000.0000</td><td style='text-align:left'> 40000.0000</td><td style='text-align:right'>False</td></tr><tr><td style='text-align:left'>SiO2_k2</td><td style='text-align:left'> 0.00000000</td><td style='text-align:left'> 0.00000000</td><td style='text-align:left'></td><td style='text-align:left'>0</td><td style='text-align:left'>-40000.0000</td><td style='text-align:left'> 40000.0000</td><td style='text-align:right'>False</td></tr><tr><td style='text-align:left'>SiO2_d</td><td style='text-align:left'> 2.06578929</td><td style='text-align:left'> 0.00753074</td><td style='text-align:left'>(0.36%)</td><td style='text-align:left'>20</td><td style='text-align:left'> 0.00000000</td><td style='text-align:left'> 40000.0000</td><td style='text-align:right'>True</td></tr></table>"
      ],
      "text/plain": [
       "<lmfit.minimizer.MinimizerResult at 0x7f4abc43eba0>"
      ]
     },
     "execution_count": 14,
     "metadata": {},
     "output_type": "execute_result"
    }
   ],
   "source": [
    "fit_stats"
   ]
  },
  {
   "cell_type": "markdown",
   "metadata": {},
   "source": [
    "## References\n",
    "[Here](https://github.com/PyEllips/pyElli/tree/master/examples/Basic%20Usage)\n",
    "you can find the latest jupyter notebook and data files of this example.\n",
    "\n"
   ]
  }
 ],
 "metadata": {
  "kernelspec": {
   "display_name": "Python 3 (ipykernel)",
   "language": "python",
   "name": "python3"
  },
  "language_info": {
   "codemirror_mode": {
    "name": "ipython",
    "version": 3
   },
   "file_extension": ".py",
   "mimetype": "text/x-python",
   "name": "python",
   "nbconvert_exporter": "python",
   "pygments_lexer": "ipython3",
   "version": "3.13.7"
  }
 },
 "nbformat": 4,
 "nbformat_minor": 4
}
